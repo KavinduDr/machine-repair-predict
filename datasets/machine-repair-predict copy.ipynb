{
 "cells": [
  {
   "cell_type": "code",
   "execution_count": 125,
   "metadata": {
    "_cell_guid": "b1076dfc-b9ad-4769-8c92-a6c4dae69d19",
    "_uuid": "8f2839f25d086af736a60e9eeb907d3b93b6e0e5",
    "execution": {
     "iopub.execute_input": "2024-12-03T12:40:15.562772Z",
     "iopub.status.busy": "2024-12-03T12:40:15.561951Z",
     "iopub.status.idle": "2024-12-03T12:40:16.678017Z",
     "shell.execute_reply": "2024-12-03T12:40:16.676900Z",
     "shell.execute_reply.started": "2024-12-03T12:40:15.562729Z"
    },
    "trusted": true
   },
   "outputs": [],
   "source": [
    "# This Python 3 environment comes with many helpful analytics libraries installed\n",
    "# It is defined by the kaggle/python Docker image: https://github.com/kaggle/docker-python\n",
    "# For example, here's several helpful packages to load\n",
    "\n",
    "import numpy as np # linear algebra\n",
    "import pandas as pd # data processing, CSV file I/O (e.g. pd.read_csv)\n",
    "\n",
    "# Input data files are available in the read-only \"../input/\" directory\n",
    "# For example, running this (by clicking run or pressing Shift+Enter) will list all files under the input directory\n",
    "\n",
    "import os\n",
    "for dirname, _, filenames in os.walk('/kaggle/input'):\n",
    "    for filename in filenames:\n",
    "        print(os.path.join(dirname, filename))\n",
    "\n",
    "# You can write up to 20GB to the current directory (/kaggle/working/) that gets preserved as output when you create a version using \"Save & Run All\" \n",
    "# You can also write temporary files to /kaggle/temp/, but they won't be saved outside of the current session"
   ]
  },
  {
   "cell_type": "code",
   "execution_count": 126,
   "metadata": {
    "execution": {
     "iopub.execute_input": "2024-12-03T12:40:18.750875Z",
     "iopub.status.busy": "2024-12-03T12:40:18.749985Z",
     "iopub.status.idle": "2024-12-03T12:40:18.832205Z",
     "shell.execute_reply": "2024-12-03T12:40:18.831030Z",
     "shell.execute_reply.started": "2024-12-03T12:40:18.750840Z"
    },
    "trusted": true
   },
   "outputs": [
    {
     "data": {
      "text/html": [
       "<div>\n",
       "<style scoped>\n",
       "    .dataframe tbody tr th:only-of-type {\n",
       "        vertical-align: middle;\n",
       "    }\n",
       "\n",
       "    .dataframe tbody tr th {\n",
       "        vertical-align: top;\n",
       "    }\n",
       "\n",
       "    .dataframe thead th {\n",
       "        text-align: right;\n",
       "    }\n",
       "</style>\n",
       "<table border=\"1\" class=\"dataframe\">\n",
       "  <thead>\n",
       "    <tr style=\"text-align: right;\">\n",
       "      <th></th>\n",
       "      <th>UDI</th>\n",
       "      <th>Product ID</th>\n",
       "      <th>Type</th>\n",
       "      <th>Air temperature [K]</th>\n",
       "      <th>Process temperature [K]</th>\n",
       "      <th>Rotational speed [rpm]</th>\n",
       "      <th>Torque [Nm]</th>\n",
       "      <th>Tool wear [min]</th>\n",
       "      <th>Target</th>\n",
       "      <th>Failure Type</th>\n",
       "    </tr>\n",
       "  </thead>\n",
       "  <tbody>\n",
       "    <tr>\n",
       "      <th>0</th>\n",
       "      <td>1</td>\n",
       "      <td>M14860</td>\n",
       "      <td>M</td>\n",
       "      <td>298.1</td>\n",
       "      <td>308.6</td>\n",
       "      <td>1551</td>\n",
       "      <td>42.8</td>\n",
       "      <td>0</td>\n",
       "      <td>0</td>\n",
       "      <td>No Failure</td>\n",
       "    </tr>\n",
       "    <tr>\n",
       "      <th>1</th>\n",
       "      <td>2</td>\n",
       "      <td>L47181</td>\n",
       "      <td>L</td>\n",
       "      <td>298.2</td>\n",
       "      <td>308.7</td>\n",
       "      <td>1408</td>\n",
       "      <td>46.3</td>\n",
       "      <td>3</td>\n",
       "      <td>0</td>\n",
       "      <td>No Failure</td>\n",
       "    </tr>\n",
       "    <tr>\n",
       "      <th>2</th>\n",
       "      <td>3</td>\n",
       "      <td>L47182</td>\n",
       "      <td>L</td>\n",
       "      <td>298.1</td>\n",
       "      <td>308.5</td>\n",
       "      <td>1498</td>\n",
       "      <td>49.4</td>\n",
       "      <td>5</td>\n",
       "      <td>0</td>\n",
       "      <td>No Failure</td>\n",
       "    </tr>\n",
       "    <tr>\n",
       "      <th>3</th>\n",
       "      <td>4</td>\n",
       "      <td>L47183</td>\n",
       "      <td>L</td>\n",
       "      <td>298.2</td>\n",
       "      <td>308.6</td>\n",
       "      <td>1433</td>\n",
       "      <td>39.5</td>\n",
       "      <td>7</td>\n",
       "      <td>0</td>\n",
       "      <td>No Failure</td>\n",
       "    </tr>\n",
       "    <tr>\n",
       "      <th>4</th>\n",
       "      <td>5</td>\n",
       "      <td>L47184</td>\n",
       "      <td>L</td>\n",
       "      <td>298.2</td>\n",
       "      <td>308.7</td>\n",
       "      <td>1408</td>\n",
       "      <td>40.0</td>\n",
       "      <td>9</td>\n",
       "      <td>0</td>\n",
       "      <td>No Failure</td>\n",
       "    </tr>\n",
       "    <tr>\n",
       "      <th>...</th>\n",
       "      <td>...</td>\n",
       "      <td>...</td>\n",
       "      <td>...</td>\n",
       "      <td>...</td>\n",
       "      <td>...</td>\n",
       "      <td>...</td>\n",
       "      <td>...</td>\n",
       "      <td>...</td>\n",
       "      <td>...</td>\n",
       "      <td>...</td>\n",
       "    </tr>\n",
       "    <tr>\n",
       "      <th>9995</th>\n",
       "      <td>9996</td>\n",
       "      <td>M24855</td>\n",
       "      <td>M</td>\n",
       "      <td>298.8</td>\n",
       "      <td>308.4</td>\n",
       "      <td>1604</td>\n",
       "      <td>29.5</td>\n",
       "      <td>14</td>\n",
       "      <td>0</td>\n",
       "      <td>No Failure</td>\n",
       "    </tr>\n",
       "    <tr>\n",
       "      <th>9996</th>\n",
       "      <td>9997</td>\n",
       "      <td>H39410</td>\n",
       "      <td>H</td>\n",
       "      <td>298.9</td>\n",
       "      <td>308.4</td>\n",
       "      <td>1632</td>\n",
       "      <td>31.8</td>\n",
       "      <td>17</td>\n",
       "      <td>0</td>\n",
       "      <td>No Failure</td>\n",
       "    </tr>\n",
       "    <tr>\n",
       "      <th>9997</th>\n",
       "      <td>9998</td>\n",
       "      <td>M24857</td>\n",
       "      <td>M</td>\n",
       "      <td>299.0</td>\n",
       "      <td>308.6</td>\n",
       "      <td>1645</td>\n",
       "      <td>33.4</td>\n",
       "      <td>22</td>\n",
       "      <td>0</td>\n",
       "      <td>No Failure</td>\n",
       "    </tr>\n",
       "    <tr>\n",
       "      <th>9998</th>\n",
       "      <td>9999</td>\n",
       "      <td>H39412</td>\n",
       "      <td>H</td>\n",
       "      <td>299.0</td>\n",
       "      <td>308.7</td>\n",
       "      <td>1408</td>\n",
       "      <td>48.5</td>\n",
       "      <td>25</td>\n",
       "      <td>0</td>\n",
       "      <td>No Failure</td>\n",
       "    </tr>\n",
       "    <tr>\n",
       "      <th>9999</th>\n",
       "      <td>10000</td>\n",
       "      <td>M24859</td>\n",
       "      <td>M</td>\n",
       "      <td>299.0</td>\n",
       "      <td>308.7</td>\n",
       "      <td>1500</td>\n",
       "      <td>40.2</td>\n",
       "      <td>30</td>\n",
       "      <td>0</td>\n",
       "      <td>No Failure</td>\n",
       "    </tr>\n",
       "  </tbody>\n",
       "</table>\n",
       "<p>10000 rows × 10 columns</p>\n",
       "</div>"
      ],
      "text/plain": [
       "        UDI Product ID Type  Air temperature [K]  Process temperature [K]  \\\n",
       "0         1     M14860    M                298.1                    308.6   \n",
       "1         2     L47181    L                298.2                    308.7   \n",
       "2         3     L47182    L                298.1                    308.5   \n",
       "3         4     L47183    L                298.2                    308.6   \n",
       "4         5     L47184    L                298.2                    308.7   \n",
       "...     ...        ...  ...                  ...                      ...   \n",
       "9995   9996     M24855    M                298.8                    308.4   \n",
       "9996   9997     H39410    H                298.9                    308.4   \n",
       "9997   9998     M24857    M                299.0                    308.6   \n",
       "9998   9999     H39412    H                299.0                    308.7   \n",
       "9999  10000     M24859    M                299.0                    308.7   \n",
       "\n",
       "      Rotational speed [rpm]  Torque [Nm]  Tool wear [min]  Target  \\\n",
       "0                       1551         42.8                0       0   \n",
       "1                       1408         46.3                3       0   \n",
       "2                       1498         49.4                5       0   \n",
       "3                       1433         39.5                7       0   \n",
       "4                       1408         40.0                9       0   \n",
       "...                      ...          ...              ...     ...   \n",
       "9995                    1604         29.5               14       0   \n",
       "9996                    1632         31.8               17       0   \n",
       "9997                    1645         33.4               22       0   \n",
       "9998                    1408         48.5               25       0   \n",
       "9999                    1500         40.2               30       0   \n",
       "\n",
       "     Failure Type  \n",
       "0      No Failure  \n",
       "1      No Failure  \n",
       "2      No Failure  \n",
       "3      No Failure  \n",
       "4      No Failure  \n",
       "...           ...  \n",
       "9995   No Failure  \n",
       "9996   No Failure  \n",
       "9997   No Failure  \n",
       "9998   No Failure  \n",
       "9999   No Failure  \n",
       "\n",
       "[10000 rows x 10 columns]"
      ]
     },
     "execution_count": 126,
     "metadata": {},
     "output_type": "execute_result"
    }
   ],
   "source": [
    "data = pd.read_csv('predictive_maintenance.csv')\n",
    "data #see whether dataset loaded"
   ]
  },
  {
   "cell_type": "code",
   "execution_count": 127,
   "metadata": {
    "execution": {
     "iopub.execute_input": "2024-12-03T12:40:22.123243Z",
     "iopub.status.busy": "2024-12-03T12:40:22.122260Z",
     "iopub.status.idle": "2024-12-03T12:40:22.135701Z",
     "shell.execute_reply": "2024-12-03T12:40:22.134666Z",
     "shell.execute_reply.started": "2024-12-03T12:40:22.123202Z"
    },
    "trusted": true
   },
   "outputs": [
    {
     "data": {
      "text/plain": [
       "UDI                        0\n",
       "Product ID                 0\n",
       "Type                       0\n",
       "Air temperature [K]        0\n",
       "Process temperature [K]    0\n",
       "Rotational speed [rpm]     0\n",
       "Torque [Nm]                0\n",
       "Tool wear [min]            0\n",
       "Target                     0\n",
       "Failure Type               0\n",
       "dtype: int64"
      ]
     },
     "execution_count": 127,
     "metadata": {},
     "output_type": "execute_result"
    }
   ],
   "source": [
    "data.isnull().sum() #checking nulls"
   ]
  },
  {
   "cell_type": "code",
   "execution_count": 128,
   "metadata": {
    "execution": {
     "iopub.execute_input": "2024-12-03T12:40:25.370683Z",
     "iopub.status.busy": "2024-12-03T12:40:25.370207Z",
     "iopub.status.idle": "2024-12-03T12:40:25.391862Z",
     "shell.execute_reply": "2024-12-03T12:40:25.390742Z",
     "shell.execute_reply.started": "2024-12-03T12:40:25.370646Z"
    },
    "trusted": true
   },
   "outputs": [
    {
     "data": {
      "text/plain": [
       "0"
      ]
     },
     "execution_count": 128,
     "metadata": {},
     "output_type": "execute_result"
    }
   ],
   "source": [
    "data.duplicated().sum() #checking duplicates"
   ]
  },
  {
   "cell_type": "code",
   "execution_count": 129,
   "metadata": {
    "execution": {
     "iopub.execute_input": "2024-12-03T12:40:27.178782Z",
     "iopub.status.busy": "2024-12-03T12:40:27.178450Z",
     "iopub.status.idle": "2024-12-03T12:40:28.390878Z",
     "shell.execute_reply": "2024-12-03T12:40:28.389861Z",
     "shell.execute_reply.started": "2024-12-03T12:40:27.178756Z"
    },
    "trusted": true
   },
   "outputs": [
    {
     "name": "stderr",
     "output_type": "stream",
     "text": [
      "C:\\Users\\Dheera\\AppData\\Local\\Temp\\ipykernel_12144\\2499133536.py:4: UserWarning: To output multiple subplots, the figure containing the passed axes is being cleared.\n",
      "  data.plot(ax=ax, kind = 'box', subplots=True, layout=(6,4), sharex=False)\n"
     ]
    },
    {
     "data": {
      "image/png": "[encoded data removed]",
      "text/plain": [
       "<Figure size 1500x2000 with 24 Axes>"
      ]
     },
     "metadata": {},
     "output_type": "display_data"
    }
   ],
   "source": [
    "import matplotlib.pyplot as plt\n",
    "fig = plt.figure(figsize = (15, 20))\n",
    "ax = fig.gca()\n",
    "data.plot(ax=ax, kind = 'box', subplots=True, layout=(6,4), sharex=False)\n",
    "plt.show()"
   ]
  },
  {
   "cell_type": "code",
   "execution_count": 130,
   "metadata": {
    "execution": {
     "iopub.execute_input": "2024-12-03T12:40:34.743633Z",
     "iopub.status.busy": "2024-12-03T12:40:34.743276Z",
     "iopub.status.idle": "2024-12-03T12:40:34.834929Z",
     "shell.execute_reply": "2024-12-03T12:40:34.833871Z",
     "shell.execute_reply.started": "2024-12-03T12:40:34.743606Z"
    },
    "trusted": true
   },
   "outputs": [
    {
     "data": {
      "text/plain": [
       "418"
      ]
     },
     "execution_count": 130,
     "metadata": {},
     "output_type": "execute_result"
    }
   ],
   "source": [
    "# Counting outliers of Rotational speed column\n",
    "# Calculate Q1, Q3, and IQR\n",
    "Q1 = data[\"Rotational speed [rpm]\"].quantile(0.25)\n",
    "Q3 = data[\"Rotational speed [rpm]\"].quantile(0.75)\n",
    "IQR = Q3 - Q1\n",
    "\n",
    "# Calculate lower and upper bounds\n",
    "lower_bound = Q1 - 1.5 * IQR\n",
    "upper_bound = Q3 + 1.5 * IQR\n",
    "\n",
    "# Define outliers based on the bounds\n",
    "outliers = data[(data[\"Rotational speed [rpm]\"] < lower_bound) | (data[\"Rotational speed [rpm]\"] > upper_bound)]\n",
    "\n",
    "# Count the number of outliers\n",
    "number_of_outliers = outliers.shape[0]\n",
    "\n",
    "# Output the number of outliers\n",
    "number_of_outliers\n"
   ]
  },
  {
   "cell_type": "code",
   "execution_count": 131,
   "metadata": {
    "execution": {
     "iopub.execute_input": "2024-12-03T12:40:41.411686Z",
     "iopub.status.busy": "2024-12-03T12:40:41.411362Z",
     "iopub.status.idle": "2024-12-03T12:40:41.423906Z",
     "shell.execute_reply": "2024-12-03T12:40:41.422851Z",
     "shell.execute_reply.started": "2024-12-03T12:40:41.411663Z"
    },
    "trusted": true
   },
   "outputs": [
    {
     "data": {
      "text/plain": [
       "69"
      ]
     },
     "execution_count": 131,
     "metadata": {},
     "output_type": "execute_result"
    }
   ],
   "source": [
    "# Counting outliers of Torque [Nm] column\n",
    "# Calculate Q1, Q3, and IQR\n",
    "Q1 = data[\"Torque [Nm]\"].quantile(0.25)\n",
    "Q3 = data[\"Torque [Nm]\"].quantile(0.75)\n",
    "IQR = Q3 - Q1\n",
    "\n",
    "# Calculate lower and upper bounds\n",
    "lower_bound = Q1 - 1.5 * IQR\n",
    "upper_bound = Q3 + 1.5 * IQR\n",
    "\n",
    "# Define outliers based on the bounds\n",
    "outliers = data[(data[\"Torque [Nm]\"] < lower_bound) | (data[\"Torque [Nm]\"] > upper_bound)]\n",
    "\n",
    "# Count the number of outliers\n",
    "number_of_outliers = outliers.shape[0]\n",
    "\n",
    "# Output the number of outliers\n",
    "number_of_outliers"
   ]
  },
  {
   "cell_type": "code",
   "execution_count": 132,
   "metadata": {
    "execution": {
     "iopub.execute_input": "2024-12-03T12:40:44.203798Z",
     "iopub.status.busy": "2024-12-03T12:40:44.202866Z",
     "iopub.status.idle": "2024-12-03T12:40:44.220683Z",
     "shell.execute_reply": "2024-12-03T12:40:44.219760Z",
     "shell.execute_reply.started": "2024-12-03T12:40:44.203764Z"
    },
    "trusted": true
   },
   "outputs": [
    {
     "data": {
      "text/html": [
       "<div>\n",
       "<style scoped>\n",
       "    .dataframe tbody tr th:only-of-type {\n",
       "        vertical-align: middle;\n",
       "    }\n",
       "\n",
       "    .dataframe tbody tr th {\n",
       "        vertical-align: top;\n",
       "    }\n",
       "\n",
       "    .dataframe thead th {\n",
       "        text-align: right;\n",
       "    }\n",
       "</style>\n",
       "<table border=\"1\" class=\"dataframe\">\n",
       "  <thead>\n",
       "    <tr style=\"text-align: right;\">\n",
       "      <th></th>\n",
       "      <th>UDI</th>\n",
       "      <th>Product ID</th>\n",
       "      <th>Type</th>\n",
       "      <th>Air temperature [K]</th>\n",
       "      <th>Process temperature [K]</th>\n",
       "      <th>Rotational speed [rpm]</th>\n",
       "      <th>Torque [Nm]</th>\n",
       "      <th>Tool wear [min]</th>\n",
       "      <th>Target</th>\n",
       "      <th>Failure Type</th>\n",
       "    </tr>\n",
       "  </thead>\n",
       "  <tbody>\n",
       "    <tr>\n",
       "      <th>0</th>\n",
       "      <td>1</td>\n",
       "      <td>M14860</td>\n",
       "      <td>M</td>\n",
       "      <td>298.1</td>\n",
       "      <td>308.6</td>\n",
       "      <td>1551</td>\n",
       "      <td>42.8</td>\n",
       "      <td>0</td>\n",
       "      <td>0</td>\n",
       "      <td>No Failure</td>\n",
       "    </tr>\n",
       "    <tr>\n",
       "      <th>1</th>\n",
       "      <td>2</td>\n",
       "      <td>L47181</td>\n",
       "      <td>L</td>\n",
       "      <td>298.2</td>\n",
       "      <td>308.7</td>\n",
       "      <td>1408</td>\n",
       "      <td>46.3</td>\n",
       "      <td>3</td>\n",
       "      <td>0</td>\n",
       "      <td>No Failure</td>\n",
       "    </tr>\n",
       "    <tr>\n",
       "      <th>2</th>\n",
       "      <td>3</td>\n",
       "      <td>L47182</td>\n",
       "      <td>L</td>\n",
       "      <td>298.1</td>\n",
       "      <td>308.5</td>\n",
       "      <td>1498</td>\n",
       "      <td>49.4</td>\n",
       "      <td>5</td>\n",
       "      <td>0</td>\n",
       "      <td>No Failure</td>\n",
       "    </tr>\n",
       "    <tr>\n",
       "      <th>3</th>\n",
       "      <td>4</td>\n",
       "      <td>L47183</td>\n",
       "      <td>L</td>\n",
       "      <td>298.2</td>\n",
       "      <td>308.6</td>\n",
       "      <td>1433</td>\n",
       "      <td>39.5</td>\n",
       "      <td>7</td>\n",
       "      <td>0</td>\n",
       "      <td>No Failure</td>\n",
       "    </tr>\n",
       "    <tr>\n",
       "      <th>4</th>\n",
       "      <td>5</td>\n",
       "      <td>L47184</td>\n",
       "      <td>L</td>\n",
       "      <td>298.2</td>\n",
       "      <td>308.7</td>\n",
       "      <td>1408</td>\n",
       "      <td>40.0</td>\n",
       "      <td>9</td>\n",
       "      <td>0</td>\n",
       "      <td>No Failure</td>\n",
       "    </tr>\n",
       "    <tr>\n",
       "      <th>...</th>\n",
       "      <td>...</td>\n",
       "      <td>...</td>\n",
       "      <td>...</td>\n",
       "      <td>...</td>\n",
       "      <td>...</td>\n",
       "      <td>...</td>\n",
       "      <td>...</td>\n",
       "      <td>...</td>\n",
       "      <td>...</td>\n",
       "      <td>...</td>\n",
       "    </tr>\n",
       "    <tr>\n",
       "      <th>9995</th>\n",
       "      <td>9996</td>\n",
       "      <td>M24855</td>\n",
       "      <td>M</td>\n",
       "      <td>298.8</td>\n",
       "      <td>308.4</td>\n",
       "      <td>1604</td>\n",
       "      <td>29.5</td>\n",
       "      <td>14</td>\n",
       "      <td>0</td>\n",
       "      <td>No Failure</td>\n",
       "    </tr>\n",
       "    <tr>\n",
       "      <th>9996</th>\n",
       "      <td>9997</td>\n",
       "      <td>H39410</td>\n",
       "      <td>H</td>\n",
       "      <td>298.9</td>\n",
       "      <td>308.4</td>\n",
       "      <td>1632</td>\n",
       "      <td>31.8</td>\n",
       "      <td>17</td>\n",
       "      <td>0</td>\n",
       "      <td>No Failure</td>\n",
       "    </tr>\n",
       "    <tr>\n",
       "      <th>9997</th>\n",
       "      <td>9998</td>\n",
       "      <td>M24857</td>\n",
       "      <td>M</td>\n",
       "      <td>299.0</td>\n",
       "      <td>308.6</td>\n",
       "      <td>1645</td>\n",
       "      <td>33.4</td>\n",
       "      <td>22</td>\n",
       "      <td>0</td>\n",
       "      <td>No Failure</td>\n",
       "    </tr>\n",
       "    <tr>\n",
       "      <th>9998</th>\n",
       "      <td>9999</td>\n",
       "      <td>H39412</td>\n",
       "      <td>H</td>\n",
       "      <td>299.0</td>\n",
       "      <td>308.7</td>\n",
       "      <td>1408</td>\n",
       "      <td>48.5</td>\n",
       "      <td>25</td>\n",
       "      <td>0</td>\n",
       "      <td>No Failure</td>\n",
       "    </tr>\n",
       "    <tr>\n",
       "      <th>9999</th>\n",
       "      <td>10000</td>\n",
       "      <td>M24859</td>\n",
       "      <td>M</td>\n",
       "      <td>299.0</td>\n",
       "      <td>308.7</td>\n",
       "      <td>1500</td>\n",
       "      <td>40.2</td>\n",
       "      <td>30</td>\n",
       "      <td>0</td>\n",
       "      <td>No Failure</td>\n",
       "    </tr>\n",
       "  </tbody>\n",
       "</table>\n",
       "<p>10000 rows × 10 columns</p>\n",
       "</div>"
      ],
      "text/plain": [
       "        UDI Product ID Type  Air temperature [K]  Process temperature [K]  \\\n",
       "0         1     M14860    M                298.1                    308.6   \n",
       "1         2     L47181    L                298.2                    308.7   \n",
       "2         3     L47182    L                298.1                    308.5   \n",
       "3         4     L47183    L                298.2                    308.6   \n",
       "4         5     L47184    L                298.2                    308.7   \n",
       "...     ...        ...  ...                  ...                      ...   \n",
       "9995   9996     M24855    M                298.8                    308.4   \n",
       "9996   9997     H39410    H                298.9                    308.4   \n",
       "9997   9998     M24857    M                299.0                    308.6   \n",
       "9998   9999     H39412    H                299.0                    308.7   \n",
       "9999  10000     M24859    M                299.0                    308.7   \n",
       "\n",
       "      Rotational speed [rpm]  Torque [Nm]  Tool wear [min]  Target  \\\n",
       "0                       1551         42.8                0       0   \n",
       "1                       1408         46.3                3       0   \n",
       "2                       1498         49.4                5       0   \n",
       "3                       1433         39.5                7       0   \n",
       "4                       1408         40.0                9       0   \n",
       "...                      ...          ...              ...     ...   \n",
       "9995                    1604         29.5               14       0   \n",
       "9996                    1632         31.8               17       0   \n",
       "9997                    1645         33.4               22       0   \n",
       "9998                    1408         48.5               25       0   \n",
       "9999                    1500         40.2               30       0   \n",
       "\n",
       "     Failure Type  \n",
       "0      No Failure  \n",
       "1      No Failure  \n",
       "2      No Failure  \n",
       "3      No Failure  \n",
       "4      No Failure  \n",
       "...           ...  \n",
       "9995   No Failure  \n",
       "9996   No Failure  \n",
       "9997   No Failure  \n",
       "9998   No Failure  \n",
       "9999   No Failure  \n",
       "\n",
       "[10000 rows x 10 columns]"
      ]
     },
     "execution_count": 132,
     "metadata": {},
     "output_type": "execute_result"
    }
   ],
   "source": [
    "copied_df = data.copy() #copying dataset to maipulate the data\n",
    "copied_df"
   ]
  },
  {
   "cell_type": "code",
   "execution_count": 133,
   "metadata": {
    "execution": {
     "iopub.execute_input": "2024-12-03T12:40:51.203364Z",
     "iopub.status.busy": "2024-12-03T12:40:51.203038Z",
     "iopub.status.idle": "2024-12-03T12:40:51.210186Z",
     "shell.execute_reply": "2024-12-03T12:40:51.208899Z",
     "shell.execute_reply.started": "2024-12-03T12:40:51.203342Z"
    },
    "trusted": true
   },
   "outputs": [
    {
     "name": "stdout",
     "output_type": "stream",
     "text": [
      "['No Failure' 'Power Failure' 'Tool Wear Failure' 'Overstrain Failure'\n",
      " 'Random Failures' 'Heat Dissipation Failure']\n"
     ]
    }
   ],
   "source": [
    "# Check unique values in the column\n",
    "unique_values = copied_df['Failure Type'].unique()\n",
    "print(unique_values)"
   ]
  },
  {
   "cell_type": "code",
   "execution_count": 134,
   "metadata": {
    "execution": {
     "iopub.execute_input": "2024-12-03T12:40:53.822608Z",
     "iopub.status.busy": "2024-12-03T12:40:53.822280Z",
     "iopub.status.idle": "2024-12-03T12:40:53.830322Z",
     "shell.execute_reply": "2024-12-03T12:40:53.829218Z",
     "shell.execute_reply.started": "2024-12-03T12:40:53.822585Z"
    },
    "trusted": true
   },
   "outputs": [
    {
     "name": "stdout",
     "output_type": "stream",
     "text": [
      "[0 1]\n"
     ]
    }
   ],
   "source": [
    "unique_values = copied_df['Target'].unique()\n",
    "print(unique_values)"
   ]
  },
  {
   "cell_type": "code",
   "execution_count": 135,
   "metadata": {
    "execution": {
     "iopub.execute_input": "2024-12-03T12:40:57.381796Z",
     "iopub.status.busy": "2024-12-03T12:40:57.381462Z",
     "iopub.status.idle": "2024-12-03T12:40:57.387621Z",
     "shell.execute_reply": "2024-12-03T12:40:57.386555Z",
     "shell.execute_reply.started": "2024-12-03T12:40:57.381771Z"
    },
    "trusted": true
   },
   "outputs": [
    {
     "name": "stdout",
     "output_type": "stream",
     "text": [
      "['M' 'L' 'H']\n"
     ]
    }
   ],
   "source": [
    "unique_values = copied_df['Type'].unique()\n",
    "print(unique_values)"
   ]
  },
  {
   "cell_type": "code",
   "execution_count": 136,
   "metadata": {
    "execution": {
     "iopub.execute_input": "2024-12-03T12:40:59.950640Z",
     "iopub.status.busy": "2024-12-03T12:40:59.949697Z",
     "iopub.status.idle": "2024-12-03T12:41:00.514271Z",
     "shell.execute_reply": "2024-12-03T12:41:00.513316Z",
     "shell.execute_reply.started": "2024-12-03T12:40:59.950606Z"
    },
    "trusted": true
   },
   "outputs": [
    {
     "name": "stdout",
     "output_type": "stream",
     "text": [
      "Training set shape: (6000, 6)\n",
      "Validation set shape: (2000, 6)\n",
      "Test set shape: (2000, 6)\n"
     ]
    }
   ],
   "source": [
    "# train test validate spliting data\n",
    "from sklearn.model_selection import train_test_split\n",
    "\n",
    "# feature column and target column\n",
    "X = copied_df.drop(columns=['Failure Type', 'Target','UDI','Product ID'])\n",
    "y = copied_df['Failure Type']\n",
    "\n",
    "X_train_val, X_test, y_train_val, y_test = train_test_split(X, y, test_size=0.2, random_state=42)\n",
    "\n",
    "# Split train+validation into training and validation sets\n",
    "X_train, X_val, y_train, y_val = train_test_split(X_train_val, y_train_val, test_size=0.25, random_state=42)\n",
    "\n",
    "# Verify the splits\n",
    "print(\"Training set shape:\", X_train.shape)\n",
    "print(\"Validation set shape:\", X_val.shape)\n",
    "print(\"Test set shape:\", X_test.shape)\n"
   ]
  },
  {
   "cell_type": "code",
   "execution_count": 137,
   "metadata": {
    "execution": {
     "iopub.execute_input": "2024-12-03T12:41:05.492805Z",
     "iopub.status.busy": "2024-12-03T12:41:05.491749Z",
     "iopub.status.idle": "2024-12-03T12:41:05.507762Z",
     "shell.execute_reply": "2024-12-03T12:41:05.506716Z",
     "shell.execute_reply.started": "2024-12-03T12:41:05.492767Z"
    },
    "trusted": true
   },
   "outputs": [
    {
     "data": {
      "text/html": [
       "<div>\n",
       "<style scoped>\n",
       "    .dataframe tbody tr th:only-of-type {\n",
       "        vertical-align: middle;\n",
       "    }\n",
       "\n",
       "    .dataframe tbody tr th {\n",
       "        vertical-align: top;\n",
       "    }\n",
       "\n",
       "    .dataframe thead th {\n",
       "        text-align: right;\n",
       "    }\n",
       "</style>\n",
       "<table border=\"1\" class=\"dataframe\">\n",
       "  <thead>\n",
       "    <tr style=\"text-align: right;\">\n",
       "      <th></th>\n",
       "      <th>Type</th>\n",
       "      <th>Air temperature [K]</th>\n",
       "      <th>Process temperature [K]</th>\n",
       "      <th>Rotational speed [rpm]</th>\n",
       "      <th>Torque [Nm]</th>\n",
       "      <th>Tool wear [min]</th>\n",
       "    </tr>\n",
       "  </thead>\n",
       "  <tbody>\n",
       "    <tr>\n",
       "      <th>8588</th>\n",
       "      <td>L</td>\n",
       "      <td>297.3</td>\n",
       "      <td>307.8</td>\n",
       "      <td>1385</td>\n",
       "      <td>44.4</td>\n",
       "      <td>169</td>\n",
       "    </tr>\n",
       "    <tr>\n",
       "      <th>3178</th>\n",
       "      <td>M</td>\n",
       "      <td>300.2</td>\n",
       "      <td>309.4</td>\n",
       "      <td>1329</td>\n",
       "      <td>53.6</td>\n",
       "      <td>186</td>\n",
       "    </tr>\n",
       "    <tr>\n",
       "      <th>5200</th>\n",
       "      <td>L</td>\n",
       "      <td>303.8</td>\n",
       "      <td>312.8</td>\n",
       "      <td>1416</td>\n",
       "      <td>58.7</td>\n",
       "      <td>156</td>\n",
       "    </tr>\n",
       "    <tr>\n",
       "      <th>8889</th>\n",
       "      <td>M</td>\n",
       "      <td>297.7</td>\n",
       "      <td>308.8</td>\n",
       "      <td>2089</td>\n",
       "      <td>19.1</td>\n",
       "      <td>111</td>\n",
       "    </tr>\n",
       "    <tr>\n",
       "      <th>5789</th>\n",
       "      <td>M</td>\n",
       "      <td>301.8</td>\n",
       "      <td>311.5</td>\n",
       "      <td>1416</td>\n",
       "      <td>49.0</td>\n",
       "      <td>136</td>\n",
       "    </tr>\n",
       "    <tr>\n",
       "      <th>...</th>\n",
       "      <td>...</td>\n",
       "      <td>...</td>\n",
       "      <td>...</td>\n",
       "      <td>...</td>\n",
       "      <td>...</td>\n",
       "      <td>...</td>\n",
       "    </tr>\n",
       "    <tr>\n",
       "      <th>8871</th>\n",
       "      <td>M</td>\n",
       "      <td>297.9</td>\n",
       "      <td>309.1</td>\n",
       "      <td>1558</td>\n",
       "      <td>39.2</td>\n",
       "      <td>59</td>\n",
       "    </tr>\n",
       "    <tr>\n",
       "      <th>9826</th>\n",
       "      <td>L</td>\n",
       "      <td>298.4</td>\n",
       "      <td>309.2</td>\n",
       "      <td>1345</td>\n",
       "      <td>52.7</td>\n",
       "      <td>196</td>\n",
       "    </tr>\n",
       "    <tr>\n",
       "      <th>5268</th>\n",
       "      <td>L</td>\n",
       "      <td>303.4</td>\n",
       "      <td>312.9</td>\n",
       "      <td>1389</td>\n",
       "      <td>54.1</td>\n",
       "      <td>109</td>\n",
       "    </tr>\n",
       "    <tr>\n",
       "      <th>9666</th>\n",
       "      <td>M</td>\n",
       "      <td>299.1</td>\n",
       "      <td>310.3</td>\n",
       "      <td>1838</td>\n",
       "      <td>24.0</td>\n",
       "      <td>235</td>\n",
       "    </tr>\n",
       "    <tr>\n",
       "      <th>6090</th>\n",
       "      <td>L</td>\n",
       "      <td>300.9</td>\n",
       "      <td>310.8</td>\n",
       "      <td>1708</td>\n",
       "      <td>29.1</td>\n",
       "      <td>14</td>\n",
       "    </tr>\n",
       "  </tbody>\n",
       "</table>\n",
       "<p>6000 rows × 6 columns</p>\n",
       "</div>"
      ],
      "text/plain": [
       "     Type  Air temperature [K]  Process temperature [K]  \\\n",
       "8588    L                297.3                    307.8   \n",
       "3178    M                300.2                    309.4   \n",
       "5200    L                303.8                    312.8   \n",
       "8889    M                297.7                    308.8   \n",
       "5789    M                301.8                    311.5   \n",
       "...   ...                  ...                      ...   \n",
       "8871    M                297.9                    309.1   \n",
       "9826    L                298.4                    309.2   \n",
       "5268    L                303.4                    312.9   \n",
       "9666    M                299.1                    310.3   \n",
       "6090    L                300.9                    310.8   \n",
       "\n",
       "      Rotational speed [rpm]  Torque [Nm]  Tool wear [min]  \n",
       "8588                    1385         44.4              169  \n",
       "3178                    1329         53.6              186  \n",
       "5200                    1416         58.7              156  \n",
       "8889                    2089         19.1              111  \n",
       "5789                    1416         49.0              136  \n",
       "...                      ...          ...              ...  \n",
       "8871                    1558         39.2               59  \n",
       "9826                    1345         52.7              196  \n",
       "5268                    1389         54.1              109  \n",
       "9666                    1838         24.0              235  \n",
       "6090                    1708         29.1               14  \n",
       "\n",
       "[6000 rows x 6 columns]"
      ]
     },
     "execution_count": 137,
     "metadata": {},
     "output_type": "execute_result"
    }
   ],
   "source": [
    "X_train"
   ]
  },
  {
   "cell_type": "code",
   "execution_count": 138,
   "metadata": {
    "execution": {
     "iopub.execute_input": "2024-12-03T12:42:05.970304Z",
     "iopub.status.busy": "2024-12-03T12:42:05.969453Z",
     "iopub.status.idle": "2024-12-03T12:42:05.985048Z",
     "shell.execute_reply": "2024-12-03T12:42:05.984053Z",
     "shell.execute_reply.started": "2024-12-03T12:42:05.970270Z"
    },
    "trusted": true
   },
   "outputs": [
    {
     "data": {
      "text/html": [
       "<div>\n",
       "<style scoped>\n",
       "    .dataframe tbody tr th:only-of-type {\n",
       "        vertical-align: middle;\n",
       "    }\n",
       "\n",
       "    .dataframe tbody tr th {\n",
       "        vertical-align: top;\n",
       "    }\n",
       "\n",
       "    .dataframe thead th {\n",
       "        text-align: right;\n",
       "    }\n",
       "</style>\n",
       "<table border=\"1\" class=\"dataframe\">\n",
       "  <thead>\n",
       "    <tr style=\"text-align: right;\">\n",
       "      <th></th>\n",
       "      <th>Type</th>\n",
       "      <th>Air temperature [K]</th>\n",
       "      <th>Process temperature [K]</th>\n",
       "      <th>Rotational speed [rpm]</th>\n",
       "      <th>Torque [Nm]</th>\n",
       "      <th>Tool wear [min]</th>\n",
       "    </tr>\n",
       "  </thead>\n",
       "  <tbody>\n",
       "    <tr>\n",
       "      <th>6252</th>\n",
       "      <td>L</td>\n",
       "      <td>300.8</td>\n",
       "      <td>310.3</td>\n",
       "      <td>1538</td>\n",
       "      <td>36.1</td>\n",
       "      <td>198</td>\n",
       "    </tr>\n",
       "    <tr>\n",
       "      <th>4684</th>\n",
       "      <td>M</td>\n",
       "      <td>303.6</td>\n",
       "      <td>311.8</td>\n",
       "      <td>1421</td>\n",
       "      <td>44.8</td>\n",
       "      <td>101</td>\n",
       "    </tr>\n",
       "    <tr>\n",
       "      <th>1731</th>\n",
       "      <td>M</td>\n",
       "      <td>298.3</td>\n",
       "      <td>307.9</td>\n",
       "      <td>1485</td>\n",
       "      <td>42.0</td>\n",
       "      <td>117</td>\n",
       "    </tr>\n",
       "    <tr>\n",
       "      <th>4742</th>\n",
       "      <td>L</td>\n",
       "      <td>303.3</td>\n",
       "      <td>311.3</td>\n",
       "      <td>1592</td>\n",
       "      <td>33.7</td>\n",
       "      <td>14</td>\n",
       "    </tr>\n",
       "    <tr>\n",
       "      <th>4521</th>\n",
       "      <td>L</td>\n",
       "      <td>302.4</td>\n",
       "      <td>310.4</td>\n",
       "      <td>1865</td>\n",
       "      <td>23.9</td>\n",
       "      <td>129</td>\n",
       "    </tr>\n",
       "    <tr>\n",
       "      <th>...</th>\n",
       "      <td>...</td>\n",
       "      <td>...</td>\n",
       "      <td>...</td>\n",
       "      <td>...</td>\n",
       "      <td>...</td>\n",
       "      <td>...</td>\n",
       "    </tr>\n",
       "    <tr>\n",
       "      <th>6412</th>\n",
       "      <td>L</td>\n",
       "      <td>300.4</td>\n",
       "      <td>310.0</td>\n",
       "      <td>1423</td>\n",
       "      <td>44.2</td>\n",
       "      <td>189</td>\n",
       "    </tr>\n",
       "    <tr>\n",
       "      <th>8285</th>\n",
       "      <td>L</td>\n",
       "      <td>298.9</td>\n",
       "      <td>310.6</td>\n",
       "      <td>1387</td>\n",
       "      <td>52.7</td>\n",
       "      <td>2</td>\n",
       "    </tr>\n",
       "    <tr>\n",
       "      <th>7853</th>\n",
       "      <td>L</td>\n",
       "      <td>300.3</td>\n",
       "      <td>311.7</td>\n",
       "      <td>1317</td>\n",
       "      <td>56.5</td>\n",
       "      <td>7</td>\n",
       "    </tr>\n",
       "    <tr>\n",
       "      <th>1095</th>\n",
       "      <td>L</td>\n",
       "      <td>296.9</td>\n",
       "      <td>307.5</td>\n",
       "      <td>2721</td>\n",
       "      <td>9.3</td>\n",
       "      <td>18</td>\n",
       "    </tr>\n",
       "    <tr>\n",
       "      <th>6929</th>\n",
       "      <td>M</td>\n",
       "      <td>301.0</td>\n",
       "      <td>311.6</td>\n",
       "      <td>1301</td>\n",
       "      <td>55.0</td>\n",
       "      <td>9</td>\n",
       "    </tr>\n",
       "  </tbody>\n",
       "</table>\n",
       "<p>2000 rows × 6 columns</p>\n",
       "</div>"
      ],
      "text/plain": [
       "     Type  Air temperature [K]  Process temperature [K]  \\\n",
       "6252    L                300.8                    310.3   \n",
       "4684    M                303.6                    311.8   \n",
       "1731    M                298.3                    307.9   \n",
       "4742    L                303.3                    311.3   \n",
       "4521    L                302.4                    310.4   \n",
       "...   ...                  ...                      ...   \n",
       "6412    L                300.4                    310.0   \n",
       "8285    L                298.9                    310.6   \n",
       "7853    L                300.3                    311.7   \n",
       "1095    L                296.9                    307.5   \n",
       "6929    M                301.0                    311.6   \n",
       "\n",
       "      Rotational speed [rpm]  Torque [Nm]  Tool wear [min]  \n",
       "6252                    1538         36.1              198  \n",
       "4684                    1421         44.8              101  \n",
       "1731                    1485         42.0              117  \n",
       "4742                    1592         33.7               14  \n",
       "4521                    1865         23.9              129  \n",
       "...                      ...          ...              ...  \n",
       "6412                    1423         44.2              189  \n",
       "8285                    1387         52.7                2  \n",
       "7853                    1317         56.5                7  \n",
       "1095                    2721          9.3               18  \n",
       "6929                    1301         55.0                9  \n",
       "\n",
       "[2000 rows x 6 columns]"
      ]
     },
     "execution_count": 138,
     "metadata": {},
     "output_type": "execute_result"
    }
   ],
   "source": [
    "X_test"
   ]
  },
  {
   "cell_type": "code",
   "execution_count": 139,
   "metadata": {
    "execution": {
     "iopub.execute_input": "2024-12-03T12:42:08.422601Z",
     "iopub.status.busy": "2024-12-03T12:42:08.422232Z",
     "iopub.status.idle": "2024-12-03T12:42:08.438097Z",
     "shell.execute_reply": "2024-12-03T12:42:08.437016Z",
     "shell.execute_reply.started": "2024-12-03T12:42:08.422574Z"
    },
    "trusted": true
   },
   "outputs": [
    {
     "data": {
      "text/html": [
       "<div>\n",
       "<style scoped>\n",
       "    .dataframe tbody tr th:only-of-type {\n",
       "        vertical-align: middle;\n",
       "    }\n",
       "\n",
       "    .dataframe tbody tr th {\n",
       "        vertical-align: top;\n",
       "    }\n",
       "\n",
       "    .dataframe thead th {\n",
       "        text-align: right;\n",
       "    }\n",
       "</style>\n",
       "<table border=\"1\" class=\"dataframe\">\n",
       "  <thead>\n",
       "    <tr style=\"text-align: right;\">\n",
       "      <th></th>\n",
       "      <th>Type</th>\n",
       "      <th>Air temperature [K]</th>\n",
       "      <th>Process temperature [K]</th>\n",
       "      <th>Rotational speed [rpm]</th>\n",
       "      <th>Torque [Nm]</th>\n",
       "      <th>Tool wear [min]</th>\n",
       "    </tr>\n",
       "  </thead>\n",
       "  <tbody>\n",
       "    <tr>\n",
       "      <th>3188</th>\n",
       "      <td>M</td>\n",
       "      <td>300.1</td>\n",
       "      <td>309.2</td>\n",
       "      <td>1438</td>\n",
       "      <td>51.0</td>\n",
       "      <td>211</td>\n",
       "    </tr>\n",
       "    <tr>\n",
       "      <th>8293</th>\n",
       "      <td>M</td>\n",
       "      <td>298.9</td>\n",
       "      <td>310.4</td>\n",
       "      <td>1533</td>\n",
       "      <td>44.4</td>\n",
       "      <td>24</td>\n",
       "    </tr>\n",
       "    <tr>\n",
       "      <th>1710</th>\n",
       "      <td>L</td>\n",
       "      <td>298.2</td>\n",
       "      <td>307.8</td>\n",
       "      <td>1530</td>\n",
       "      <td>35.9</td>\n",
       "      <td>68</td>\n",
       "    </tr>\n",
       "    <tr>\n",
       "      <th>7510</th>\n",
       "      <td>L</td>\n",
       "      <td>300.5</td>\n",
       "      <td>311.8</td>\n",
       "      <td>1524</td>\n",
       "      <td>38.9</td>\n",
       "      <td>214</td>\n",
       "    </tr>\n",
       "    <tr>\n",
       "      <th>1461</th>\n",
       "      <td>L</td>\n",
       "      <td>298.9</td>\n",
       "      <td>310.2</td>\n",
       "      <td>1491</td>\n",
       "      <td>45.1</td>\n",
       "      <td>101</td>\n",
       "    </tr>\n",
       "    <tr>\n",
       "      <th>...</th>\n",
       "      <td>...</td>\n",
       "      <td>...</td>\n",
       "      <td>...</td>\n",
       "      <td>...</td>\n",
       "      <td>...</td>\n",
       "      <td>...</td>\n",
       "    </tr>\n",
       "    <tr>\n",
       "      <th>2834</th>\n",
       "      <td>L</td>\n",
       "      <td>300.3</td>\n",
       "      <td>309.1</td>\n",
       "      <td>1368</td>\n",
       "      <td>46.0</td>\n",
       "      <td>171</td>\n",
       "    </tr>\n",
       "    <tr>\n",
       "      <th>449</th>\n",
       "      <td>L</td>\n",
       "      <td>297.6</td>\n",
       "      <td>308.7</td>\n",
       "      <td>1622</td>\n",
       "      <td>37.9</td>\n",
       "      <td>79</td>\n",
       "    </tr>\n",
       "    <tr>\n",
       "      <th>6686</th>\n",
       "      <td>L</td>\n",
       "      <td>301.7</td>\n",
       "      <td>311.0</td>\n",
       "      <td>1715</td>\n",
       "      <td>24.8</td>\n",
       "      <td>17</td>\n",
       "    </tr>\n",
       "    <tr>\n",
       "      <th>3561</th>\n",
       "      <td>L</td>\n",
       "      <td>301.7</td>\n",
       "      <td>310.6</td>\n",
       "      <td>1486</td>\n",
       "      <td>38.5</td>\n",
       "      <td>78</td>\n",
       "    </tr>\n",
       "    <tr>\n",
       "      <th>9595</th>\n",
       "      <td>H</td>\n",
       "      <td>299.0</td>\n",
       "      <td>310.1</td>\n",
       "      <td>1432</td>\n",
       "      <td>50.0</td>\n",
       "      <td>45</td>\n",
       "    </tr>\n",
       "  </tbody>\n",
       "</table>\n",
       "<p>2000 rows × 6 columns</p>\n",
       "</div>"
      ],
      "text/plain": [
       "     Type  Air temperature [K]  Process temperature [K]  \\\n",
       "3188    M                300.1                    309.2   \n",
       "8293    M                298.9                    310.4   \n",
       "1710    L                298.2                    307.8   \n",
       "7510    L                300.5                    311.8   \n",
       "1461    L                298.9                    310.2   \n",
       "...   ...                  ...                      ...   \n",
       "2834    L                300.3                    309.1   \n",
       "449     L                297.6                    308.7   \n",
       "6686    L                301.7                    311.0   \n",
       "3561    L                301.7                    310.6   \n",
       "9595    H                299.0                    310.1   \n",
       "\n",
       "      Rotational speed [rpm]  Torque [Nm]  Tool wear [min]  \n",
       "3188                    1438         51.0              211  \n",
       "8293                    1533         44.4               24  \n",
       "1710                    1530         35.9               68  \n",
       "7510                    1524         38.9              214  \n",
       "1461                    1491         45.1              101  \n",
       "...                      ...          ...              ...  \n",
       "2834                    1368         46.0              171  \n",
       "449                     1622         37.9               79  \n",
       "6686                    1715         24.8               17  \n",
       "3561                    1486         38.5               78  \n",
       "9595                    1432         50.0               45  \n",
       "\n",
       "[2000 rows x 6 columns]"
      ]
     },
     "execution_count": 139,
     "metadata": {},
     "output_type": "execute_result"
    }
   ],
   "source": [
    "X_val"
   ]
  },
  {
   "cell_type": "code",
   "execution_count": 140,
   "metadata": {
    "execution": {
     "iopub.execute_input": "2024-12-03T12:42:11.089607Z",
     "iopub.status.busy": "2024-12-03T12:42:11.088868Z",
     "iopub.status.idle": "2024-12-03T12:42:11.097032Z",
     "shell.execute_reply": "2024-12-03T12:42:11.096042Z",
     "shell.execute_reply.started": "2024-12-03T12:42:11.089575Z"
    },
    "trusted": true
   },
   "outputs": [
    {
     "data": {
      "text/plain": [
       "8588    No Failure\n",
       "3178    No Failure\n",
       "5200    No Failure\n",
       "8889    No Failure\n",
       "5789    No Failure\n",
       "           ...    \n",
       "8871    No Failure\n",
       "9826    No Failure\n",
       "5268    No Failure\n",
       "9666    No Failure\n",
       "6090    No Failure\n",
       "Name: Failure Type, Length: 6000, dtype: object"
      ]
     },
     "execution_count": 140,
     "metadata": {},
     "output_type": "execute_result"
    }
   ],
   "source": [
    "y_train"
   ]
  },
  {
   "cell_type": "code",
   "execution_count": 141,
   "metadata": {
    "execution": {
     "iopub.execute_input": "2024-12-03T12:42:13.589674Z",
     "iopub.status.busy": "2024-12-03T12:42:13.589339Z",
     "iopub.status.idle": "2024-12-03T12:42:13.597742Z",
     "shell.execute_reply": "2024-12-03T12:42:13.596512Z",
     "shell.execute_reply.started": "2024-12-03T12:42:13.589648Z"
    },
    "trusted": true
   },
   "outputs": [
    {
     "data": {
      "text/plain": [
       "6252       No Failure\n",
       "4684       No Failure\n",
       "1731       No Failure\n",
       "4742       No Failure\n",
       "4521       No Failure\n",
       "            ...      \n",
       "6412       No Failure\n",
       "8285       No Failure\n",
       "7853       No Failure\n",
       "1095    Power Failure\n",
       "6929       No Failure\n",
       "Name: Failure Type, Length: 2000, dtype: object"
      ]
     },
     "execution_count": 141,
     "metadata": {},
     "output_type": "execute_result"
    }
   ],
   "source": [
    "y_test"
   ]
  },
  {
   "cell_type": "code",
   "execution_count": 142,
   "metadata": {
    "execution": {
     "iopub.execute_input": "2024-10-16T08:12:11.454143Z",
     "iopub.status.busy": "2024-10-16T08:12:11.453731Z",
     "iopub.status.idle": "2024-10-16T08:12:11.466839Z",
     "shell.execute_reply": "2024-10-16T08:12:11.465451Z",
     "shell.execute_reply.started": "2024-10-16T08:12:11.454101Z"
    },
    "trusted": true
   },
   "outputs": [
    {
     "data": {
      "text/plain": [
       "3188           No Failure\n",
       "8293           No Failure\n",
       "1710           No Failure\n",
       "7510    Tool Wear Failure\n",
       "1461           No Failure\n",
       "              ...        \n",
       "2834           No Failure\n",
       "449            No Failure\n",
       "6686           No Failure\n",
       "3561           No Failure\n",
       "9595           No Failure\n",
       "Name: Failure Type, Length: 2000, dtype: object"
      ]
     },
     "execution_count": 142,
     "metadata": {},
     "output_type": "execute_result"
    }
   ],
   "source": [
    "y_val"
   ]
  },
  {
   "cell_type": "markdown",
   "metadata": {},
   "source": [
    "**Need to check on outliers**"
   ]
  },
  {
   "cell_type": "markdown",
   "metadata": {},
   "source": [
    "X_train"
   ]
  },
  {
   "cell_type": "code",
   "execution_count": 143,
   "metadata": {
    "execution": {
     "iopub.execute_input": "2024-12-03T12:43:17.298316Z",
     "iopub.status.busy": "2024-12-03T12:43:17.297606Z",
     "iopub.status.idle": "2024-12-03T12:43:18.488162Z",
     "shell.execute_reply": "2024-12-03T12:43:18.487106Z",
     "shell.execute_reply.started": "2024-12-03T12:43:17.298287Z"
    },
    "trusted": true
   },
   "outputs": [
    {
     "name": "stderr",
     "output_type": "stream",
     "text": [
      "C:\\Users\\Dheera\\AppData\\Local\\Temp\\ipykernel_12144\\2695874865.py:3: UserWarning: To output multiple subplots, the figure containing the passed axes is being cleared.\n",
      "  X_train.plot(ax=ax, kind = 'box', subplots=True, layout=(6,4), sharex=False)\n"
     ]
    },
    {
     "data": {
      "image/png": "[encoded data removed]",
      "text/plain": [
       "<Figure size 1500x2000 with 24 Axes>"
      ]
     },
     "metadata": {},
     "output_type": "display_data"
    }
   ],
   "source": [
    "fig = plt.figure(figsize = (15, 20))\n",
    "ax = fig.gca()\n",
    "X_train.plot(ax=ax, kind = 'box', subplots=True, layout=(6,4), sharex=False)\n",
    "plt.show()"
   ]
  },
  {
   "cell_type": "code",
   "execution_count": 144,
   "metadata": {
    "execution": {
     "iopub.execute_input": "2024-12-03T12:43:22.036419Z",
     "iopub.status.busy": "2024-12-03T12:43:22.035706Z",
     "iopub.status.idle": "2024-12-03T12:43:22.047390Z",
     "shell.execute_reply": "2024-12-03T12:43:22.046454Z",
     "shell.execute_reply.started": "2024-12-03T12:43:22.036387Z"
    },
    "trusted": true
   },
   "outputs": [
    {
     "data": {
      "text/plain": [
       "284"
      ]
     },
     "execution_count": 144,
     "metadata": {},
     "output_type": "execute_result"
    }
   ],
   "source": [
    "# Counting outliers of Rotational speed column\n",
    "# Calculate Q1, Q3, and IQR\n",
    "Q1 = X_train[\"Rotational speed [rpm]\"].quantile(0.25)\n",
    "Q3 = X_train[\"Rotational speed [rpm]\"].quantile(0.75)\n",
    "IQR = Q3 - Q1\n",
    "\n",
    "# Calculate lower and upper bounds\n",
    "lower_bound = Q1 - 1.5 * IQR\n",
    "upper_bound = Q3 + 1.5 * IQR\n",
    "\n",
    "# Define outliers based on the bounds\n",
    "outliers = X_train[(X_train[\"Rotational speed [rpm]\"] < lower_bound) | (X_train[\"Rotational speed [rpm]\"] > upper_bound)]\n",
    "\n",
    "# Count the number of outliers\n",
    "number_of_outliers = outliers.shape[0]\n",
    "\n",
    "# Output the number of outliers\n",
    "number_of_outliers"
   ]
  },
  {
   "cell_type": "code",
   "execution_count": 145,
   "metadata": {
    "execution": {
     "iopub.execute_input": "2024-12-03T12:43:25.360138Z",
     "iopub.status.busy": "2024-12-03T12:43:25.359739Z",
     "iopub.status.idle": "2024-12-03T12:43:25.372214Z",
     "shell.execute_reply": "2024-12-03T12:43:25.371247Z",
     "shell.execute_reply.started": "2024-12-03T12:43:25.360108Z"
    },
    "trusted": true
   },
   "outputs": [
    {
     "data": {
      "text/plain": [
       "43"
      ]
     },
     "execution_count": 145,
     "metadata": {},
     "output_type": "execute_result"
    }
   ],
   "source": [
    "# Counting outliers of Torque [Nm] column\n",
    "# Calculate Q1, Q3, and IQR\n",
    "Q1 = X_train[\"Torque [Nm]\"].quantile(0.25)\n",
    "Q3 = X_train[\"Torque [Nm]\"].quantile(0.75)\n",
    "IQR = Q3 - Q1\n",
    "\n",
    "# Calculate lower and upper bounds\n",
    "lower_bound = Q1 - 1.5 * IQR\n",
    "upper_bound = Q3 + 1.5 * IQR\n",
    "\n",
    "# Define outliers based on the bounds\n",
    "outliers = X_train[(X_train[\"Torque [Nm]\"] < lower_bound) | (X_train[\"Torque [Nm]\"] > upper_bound)]\n",
    "\n",
    "# Count the number of outliers\n",
    "number_of_outliers = outliers.shape[0]\n",
    "\n",
    "# Output the number of outliers\n",
    "number_of_outliers"
   ]
  },
  {
   "cell_type": "code",
   "execution_count": 146,
   "metadata": {},
   "outputs": [
    {
     "data": {
      "text/plain": [
       "array([1385, 1329, 1416, 2089, 1633, 1498, 1438, 1411, 1691, 1373, 1369,\n",
       "       2016, 1430, 1410, 1706, 1304, 1446, 1488, 1561, 1523, 1499, 1454,\n",
       "       1623, 1347, 1413, 1400, 1818, 1490, 1431, 1664, 1393, 1541, 1420,\n",
       "       1518, 1622, 1642, 1447, 2051, 1482, 1335, 1481, 1437, 1572, 1644,\n",
       "       1669, 1336, 1320, 1301, 1550, 1585, 1506, 1412, 1457, 1421, 1699,\n",
       "       1877, 1602, 1640, 1466, 1374, 1439, 1892, 1881, 1382, 1574, 1233,\n",
       "       1610, 1270, 1419, 1366, 1496, 1651, 1609, 1403, 1546, 1465, 1584,\n",
       "       1469, 1375, 1535, 1485, 1619, 1476, 1537, 1645, 1360, 1749, 1621,\n",
       "       1754, 1395, 1356, 1315, 1484, 1493, 1545, 1593, 1378, 1589, 1528,\n",
       "       1514, 1460, 1637, 1422, 1614, 1324, 1433, 1740, 1817, 1470, 1486,\n",
       "       1627, 1709, 1735, 1464, 1641, 1844, 1417, 1582, 1492, 1666, 1429,\n",
       "       1407, 1281, 1548, 1389, 1692, 1453, 1330, 1442, 1379, 1504, 1638,\n",
       "       1370, 1569, 1916, 2245, 1570, 1387, 1463, 2329, 1531, 1501, 1665,\n",
       "       1715, 1405, 1898, 1565, 1615, 1830, 1834, 1823, 1440, 1571, 1508,\n",
       "       1491, 1543, 1367, 1332, 1616, 1352, 1598, 1478, 1359, 1542, 1822,\n",
       "       1444, 2009, 1354, 1620, 1296, 1309, 1436, 1402, 1677, 1409, 1592,\n",
       "       1612, 1441, 1613, 1435, 1683, 1406, 1392, 1371, 1568, 1443, 1954,\n",
       "       1384, 1328, 1552, 1340, 1357, 2579, 1842, 1618, 1268, 1383, 1727,\n",
       "       1657, 1364, 1448, 1511, 1288, 1398, 1868, 1580, 1802, 1705, 1540,\n",
       "       1479, 1764, 1794, 1449, 1475, 1344, 1694, 1668, 1451, 1628, 1811,\n",
       "       1995, 1515, 1353, 1538, 1507, 1559, 1590, 1629, 1874, 1477, 1445,\n",
       "       1558, 1517, 1500, 1520, 1591, 1289, 1282, 2032, 1458, 1553, 1519,\n",
       "       1424, 1452, 1605, 1524, 1670, 1401, 1737, 1522, 1450, 1530, 1611,\n",
       "       1634, 1798, 1337, 1386, 2833, 1312, 1462, 1269, 1775, 1744, 1434,\n",
       "       1771, 1471, 1532, 1729, 1349, 1624, 1824, 1650, 2204, 1697, 1286,\n",
       "       1710, 2267, 1363, 1836, 1314, 1534, 1390, 1595, 1880, 1494, 1290,\n",
       "       1391, 1526, 1544, 1467, 1604, 1924, 1662, 1497, 1596, 1345, 1346,\n",
       "       1361, 1704, 1394, 1547, 1675, 1607, 1732, 1527, 2024, 1397, 1674,\n",
       "       1603, 1480, 1555, 1418, 1953, 1502, 1576, 1840, 1889, 1510, 1341,\n",
       "       1468, 1513, 1297, 1680, 1399, 1516, 1456, 1689, 1525, 1949, 1427,\n",
       "       2179, 2044, 1796, 1564, 1686, 1305, 1563, 1847, 1600, 1989, 1562,\n",
       "       2709, 1743, 1414, 1455, 1529, 1937, 1473, 1635, 1426, 1887, 1631,\n",
       "       1461, 2113, 1536, 1365, 1322, 1920, 1459, 1483, 1594, 1654, 1311,\n",
       "       1331, 1948, 1755, 1556, 1859, 2022, 1820, 1649, 1338, 1408, 1728,\n",
       "       1509, 1752, 1968, 1988, 1588, 1639, 1806, 1396, 1432, 1423, 1316,\n",
       "       1852, 1425, 1751, 1873, 1896, 1388, 1586, 2384, 1310, 1512, 1716,\n",
       "       1404, 1415, 1805, 1681, 1652, 2012, 1960, 1495, 1377, 1819, 2305,\n",
       "       1698, 1656, 2049, 1348, 1578, 1696, 1472, 1910, 1816, 1489, 1786,\n",
       "       1958, 1575, 1428, 1981, 1355, 1793, 1762, 1809, 1587, 1687, 1672,\n",
       "       1551, 1533, 1785, 1333, 1708, 1678, 1864, 1741, 1487, 2372, 1917,\n",
       "       1326, 1722, 1583, 1539, 1560, 1738, 1505, 1734, 1295, 1358, 1746,\n",
       "       1760, 1884, 1567, 1279, 1810, 2000, 1321, 1855, 2102, 1318, 1808,\n",
       "       1313, 1707, 1577, 1597, 1293, 1759, 1278, 1376, 1381, 1323, 1658,\n",
       "       1334, 1566, 1969, 1863, 1720, 2218, 1807, 1254, 1726, 1646, 1812,\n",
       "       2250, 1653, 1781, 1606, 1632, 1731, 1714, 1827, 1763, 1758, 1685,\n",
       "       1617, 2011, 2174, 1362, 1753, 1725, 1905, 1927, 1814, 1549, 1688,\n",
       "       1521, 2289, 1380, 1342, 1701, 1659, 1804, 1700, 1262, 1962, 1867,\n",
       "       1350, 1503, 2092, 1263, 1647, 1985, 2271, 1787, 1317, 1351, 2074,\n",
       "       2636, 1573, 1581, 1202, 1684, 1255, 2354, 2643, 1843, 1903, 2186,\n",
       "       1302, 1679, 1799, 1713, 1368, 1474, 2144, 1319, 1878, 2496, 1579,\n",
       "       1636, 1928, 1267, 1661, 1831, 1931, 1557, 1608, 1853, 1630, 1339,\n",
       "       1372, 1774, 1766, 2028, 1258, 1625, 1343, 1946, 1673, 1306, 1298,\n",
       "       1702, 2194, 2231, 1554, 1800, 1234, 1280, 1967, 1821, 1907, 1261,\n",
       "       2065, 2248, 1951, 1256, 1871, 1791, 1922, 1965, 1667, 1923, 1682,\n",
       "       1294, 1745, 1761, 1695, 1222, 1750, 1790, 1626, 1724, 1601, 1883,\n",
       "       1721, 1736, 2119, 2083, 2706, 2437, 1227, 1742, 2158, 2197, 1711,\n",
       "       2084, 2161, 1801, 2297, 1325, 2270, 2137, 1911, 1893, 2093, 2312,\n",
       "       1307, 1266, 1829, 1703, 1676, 1599, 2659, 2678, 1671, 1308, 1991,\n",
       "       1828, 1655, 1908, 1274, 1643, 1693, 2564, 1243, 1769, 1327, 2098,\n",
       "       1972, 1292, 1770, 1926, 2034, 1776, 1284, 2262, 1648, 1858, 1780,\n",
       "       2001, 2116, 1747, 1832, 1841, 1719, 1271, 2097, 2323, 1249, 2090,\n",
       "       2183, 1663, 2293, 1803, 1964, 1918, 1717, 2595, 2007, 1950, 2886,\n",
       "       2465, 1959, 2567, 2182, 1778, 1815, 2057, 1876, 1300, 1181, 2153,\n",
       "       2127, 1895, 1235, 1748, 1942, 1915, 1909, 1888, 2029, 1690, 1772,\n",
       "       1983, 2141, 2344, 1718, 1869, 1941, 1784, 2256, 1275, 2008, 1739,\n",
       "       2129, 2006, 1906, 1913, 2424, 1283, 2109, 1226, 1825, 1925, 1975,\n",
       "       1303, 1788, 2737, 2151, 2261, 1767, 1845, 1813, 1712, 2206, 1940,\n",
       "       1789, 2288, 1850, 1238, 2052, 1980, 1299, 1733, 1660, 2676, 1260,\n",
       "       2071, 1792, 2456, 1276, 1236, 1977, 2056, 2240, 1902, 1894, 2117,\n",
       "       2355, 1272, 1207, 1229, 1285, 1782, 2235, 1779, 1890, 2033, 1891,\n",
       "       1773, 1783, 1854, 2130, 1897, 2266, 2440, 2157, 1851, 1838, 2068,\n",
       "       1921, 1882, 1192, 2047, 1984, 1861, 1899, 1961, 2663, 1826, 2069,\n",
       "       1757, 2010, 2211, 2101, 2710, 1730, 2497, 2077, 1856, 2760, 1875,\n",
       "       2617, 1978, 1839, 1872, 1932, 1287, 1765, 2243, 2140, 2142, 2203,\n",
       "       1862, 2188, 2003, 1865, 2165, 2874, 1944, 2540, 1837, 1723, 2013,\n",
       "       2021, 1866, 1976, 2073, 1797, 2103, 2370], dtype=int64)"
      ]
     },
     "execution_count": 146,
     "metadata": {},
     "output_type": "execute_result"
    }
   ],
   "source": [
    "unique_values = X_train['Rotational speed [rpm]'].unique()\n",
    "unique_values"
   ]
  },
  {
   "cell_type": "code",
   "execution_count": 147,
   "metadata": {
    "execution": {
     "iopub.execute_input": "2024-12-03T12:43:28.318724Z",
     "iopub.status.busy": "2024-12-03T12:43:28.317778Z",
     "iopub.status.idle": "2024-12-03T12:43:29.500193Z",
     "shell.execute_reply": "2024-12-03T12:43:29.499242Z",
     "shell.execute_reply.started": "2024-12-03T12:43:28.318691Z"
    },
    "trusted": true
   },
   "outputs": [
    {
     "name": "stderr",
     "output_type": "stream",
     "text": [
      "C:\\Users\\Dheera\\AppData\\Local\\Temp\\ipykernel_12144\\2695874865.py:3: UserWarning: To output multiple subplots, the figure containing the passed axes is being cleared.\n",
      "  X_train.plot(ax=ax, kind = 'box', subplots=True, layout=(6,4), sharex=False)\n"
     ]
    },
    {
     "data": {
      "image/png": "[encoded data removed]",
      "text/plain": [
       "<Figure size 1500x2000 with 24 Axes>"
      ]
     },
     "metadata": {},
     "output_type": "display_data"
    }
   ],
   "source": [
    "fig = plt.figure(figsize = (15, 20))\n",
    "ax = fig.gca()\n",
    "X_train.plot(ax=ax, kind = 'box', subplots=True, layout=(6,4), sharex=False)\n",
    "plt.show()"
   ]
  },
  {
   "cell_type": "markdown",
   "metadata": {},
   "source": [
    "Encoding Failure types"
   ]
  },
  {
   "cell_type": "code",
   "execution_count": 148,
   "metadata": {
    "execution": {
     "iopub.execute_input": "2024-12-03T12:43:49.805515Z",
     "iopub.status.busy": "2024-12-03T12:43:49.805152Z",
     "iopub.status.idle": "2024-12-03T12:43:49.814087Z",
     "shell.execute_reply": "2024-12-03T12:43:49.813062Z",
     "shell.execute_reply.started": "2024-12-03T12:43:49.805490Z"
    },
    "trusted": true
   },
   "outputs": [
    {
     "data": {
      "text/plain": [
       "array([1, 1, 1, ..., 1, 1, 1])"
      ]
     },
     "execution_count": 148,
     "metadata": {},
     "output_type": "execute_result"
    }
   ],
   "source": [
    "from sklearn.preprocessing import LabelEncoder\n",
    "\n",
    "label_encoder = LabelEncoder()\n",
    "y_train = label_encoder.fit_transform(y_train)\n",
    "y_train"
   ]
  },
  {
   "cell_type": "code",
   "execution_count": 149,
   "metadata": {
    "execution": {
     "iopub.execute_input": "2024-12-03T12:43:55.021038Z",
     "iopub.status.busy": "2024-12-03T12:43:55.020113Z",
     "iopub.status.idle": "2024-12-03T12:43:55.026100Z",
     "shell.execute_reply": "2024-12-03T12:43:55.025010Z",
     "shell.execute_reply.started": "2024-12-03T12:43:55.021006Z"
    },
    "trusted": true
   },
   "outputs": [
    {
     "name": "stdout",
     "output_type": "stream",
     "text": [
      "Mapping of original values to encoded values: {'Heat Dissipation Failure': 0, 'No Failure': 1, 'Overstrain Failure': 2, 'Power Failure': 3, 'Random Failures': 4, 'Tool Wear Failure': 5}\n"
     ]
    }
   ],
   "source": [
    "#cheking what were assigned\n",
    "mapping = dict(zip(label_encoder.classes_, label_encoder.transform(label_encoder.classes_)))\n",
    "print(\"Mapping of original values to encoded values:\", mapping)"
   ]
  },
  {
   "cell_type": "code",
   "execution_count": 150,
   "metadata": {
    "execution": {
     "iopub.execute_input": "2024-12-03T12:43:58.280346Z",
     "iopub.status.busy": "2024-12-03T12:43:58.279957Z",
     "iopub.status.idle": "2024-12-03T12:43:58.288508Z",
     "shell.execute_reply": "2024-12-03T12:43:58.287270Z",
     "shell.execute_reply.started": "2024-12-03T12:43:58.280317Z"
    },
    "trusted": true
   },
   "outputs": [
    {
     "data": {
      "text/plain": [
       "array([1, 1, 1, ..., 1, 3, 1])"
      ]
     },
     "execution_count": 150,
     "metadata": {},
     "output_type": "execute_result"
    }
   ],
   "source": [
    "label_encoder = LabelEncoder()\n",
    "y_test = label_encoder.fit_transform(y_test)\n",
    "y_test"
   ]
  },
  {
   "cell_type": "code",
   "execution_count": 151,
   "metadata": {
    "execution": {
     "iopub.execute_input": "2024-12-03T12:44:01.209136Z",
     "iopub.status.busy": "2024-12-03T12:44:01.208726Z",
     "iopub.status.idle": "2024-12-03T12:44:01.214931Z",
     "shell.execute_reply": "2024-12-03T12:44:01.213888Z",
     "shell.execute_reply.started": "2024-12-03T12:44:01.209108Z"
    },
    "trusted": true
   },
   "outputs": [
    {
     "name": "stdout",
     "output_type": "stream",
     "text": [
      "Mapping of original values to encoded values: {'Heat Dissipation Failure': 0, 'No Failure': 1, 'Overstrain Failure': 2, 'Power Failure': 3, 'Random Failures': 4, 'Tool Wear Failure': 5}\n"
     ]
    }
   ],
   "source": [
    "mapping = dict(zip(label_encoder.classes_, label_encoder.transform(label_encoder.classes_)))\n",
    "print(\"Mapping of original values to encoded values:\", mapping)"
   ]
  },
  {
   "cell_type": "code",
   "execution_count": 152,
   "metadata": {
    "execution": {
     "iopub.execute_input": "2024-12-03T12:44:03.805995Z",
     "iopub.status.busy": "2024-12-03T12:44:03.805567Z",
     "iopub.status.idle": "2024-12-03T12:44:03.813191Z",
     "shell.execute_reply": "2024-12-03T12:44:03.812234Z",
     "shell.execute_reply.started": "2024-12-03T12:44:03.805941Z"
    },
    "trusted": true
   },
   "outputs": [
    {
     "data": {
      "text/plain": [
       "array([1, 1, 1, ..., 1, 1, 1])"
      ]
     },
     "execution_count": 152,
     "metadata": {},
     "output_type": "execute_result"
    }
   ],
   "source": [
    "label_encoder = LabelEncoder()\n",
    "y_val = label_encoder.fit_transform(y_val)\n",
    "y_val"
   ]
  },
  {
   "cell_type": "code",
   "execution_count": 153,
   "metadata": {
    "execution": {
     "iopub.execute_input": "2024-12-03T12:44:07.207051Z",
     "iopub.status.busy": "2024-12-03T12:44:07.206656Z",
     "iopub.status.idle": "2024-12-03T12:44:07.212621Z",
     "shell.execute_reply": "2024-12-03T12:44:07.211500Z",
     "shell.execute_reply.started": "2024-12-03T12:44:07.207023Z"
    },
    "trusted": true
   },
   "outputs": [
    {
     "name": "stdout",
     "output_type": "stream",
     "text": [
      "Mapping of original values to encoded values: {'Heat Dissipation Failure': 0, 'No Failure': 1, 'Overstrain Failure': 2, 'Power Failure': 3, 'Random Failures': 4, 'Tool Wear Failure': 5}\n"
     ]
    }
   ],
   "source": [
    "mapping = dict(zip(label_encoder.classes_, label_encoder.transform(label_encoder.classes_)))\n",
    "print(\"Mapping of original values to encoded values:\", mapping)"
   ]
  },
  {
   "cell_type": "markdown",
   "metadata": {},
   "source": [
    "Encoding Type"
   ]
  },
  {
   "cell_type": "code",
   "execution_count": 154,
   "metadata": {
    "execution": {
     "iopub.execute_input": "2024-12-03T12:44:10.045481Z",
     "iopub.status.busy": "2024-12-03T12:44:10.045125Z",
     "iopub.status.idle": "2024-12-03T12:44:10.064031Z",
     "shell.execute_reply": "2024-12-03T12:44:10.062981Z",
     "shell.execute_reply.started": "2024-12-03T12:44:10.045456Z"
    },
    "trusted": true
   },
   "outputs": [
    {
     "data": {
      "text/html": [
       "<div>\n",
       "<style scoped>\n",
       "    .dataframe tbody tr th:only-of-type {\n",
       "        vertical-align: middle;\n",
       "    }\n",
       "\n",
       "    .dataframe tbody tr th {\n",
       "        vertical-align: top;\n",
       "    }\n",
       "\n",
       "    .dataframe thead th {\n",
       "        text-align: right;\n",
       "    }\n",
       "</style>\n",
       "<table border=\"1\" class=\"dataframe\">\n",
       "  <thead>\n",
       "    <tr style=\"text-align: right;\">\n",
       "      <th></th>\n",
       "      <th>Type</th>\n",
       "      <th>Air temperature [K]</th>\n",
       "      <th>Process temperature [K]</th>\n",
       "      <th>Rotational speed [rpm]</th>\n",
       "      <th>Torque [Nm]</th>\n",
       "      <th>Tool wear [min]</th>\n",
       "    </tr>\n",
       "  </thead>\n",
       "  <tbody>\n",
       "    <tr>\n",
       "      <th>8588</th>\n",
       "      <td>1</td>\n",
       "      <td>297.3</td>\n",
       "      <td>307.8</td>\n",
       "      <td>1385</td>\n",
       "      <td>44.4</td>\n",
       "      <td>169</td>\n",
       "    </tr>\n",
       "    <tr>\n",
       "      <th>3178</th>\n",
       "      <td>2</td>\n",
       "      <td>300.2</td>\n",
       "      <td>309.4</td>\n",
       "      <td>1329</td>\n",
       "      <td>53.6</td>\n",
       "      <td>186</td>\n",
       "    </tr>\n",
       "    <tr>\n",
       "      <th>5200</th>\n",
       "      <td>1</td>\n",
       "      <td>303.8</td>\n",
       "      <td>312.8</td>\n",
       "      <td>1416</td>\n",
       "      <td>58.7</td>\n",
       "      <td>156</td>\n",
       "    </tr>\n",
       "    <tr>\n",
       "      <th>8889</th>\n",
       "      <td>2</td>\n",
       "      <td>297.7</td>\n",
       "      <td>308.8</td>\n",
       "      <td>2089</td>\n",
       "      <td>19.1</td>\n",
       "      <td>111</td>\n",
       "    </tr>\n",
       "    <tr>\n",
       "      <th>5789</th>\n",
       "      <td>2</td>\n",
       "      <td>301.8</td>\n",
       "      <td>311.5</td>\n",
       "      <td>1416</td>\n",
       "      <td>49.0</td>\n",
       "      <td>136</td>\n",
       "    </tr>\n",
       "    <tr>\n",
       "      <th>...</th>\n",
       "      <td>...</td>\n",
       "      <td>...</td>\n",
       "      <td>...</td>\n",
       "      <td>...</td>\n",
       "      <td>...</td>\n",
       "      <td>...</td>\n",
       "    </tr>\n",
       "    <tr>\n",
       "      <th>8871</th>\n",
       "      <td>2</td>\n",
       "      <td>297.9</td>\n",
       "      <td>309.1</td>\n",
       "      <td>1558</td>\n",
       "      <td>39.2</td>\n",
       "      <td>59</td>\n",
       "    </tr>\n",
       "    <tr>\n",
       "      <th>9826</th>\n",
       "      <td>1</td>\n",
       "      <td>298.4</td>\n",
       "      <td>309.2</td>\n",
       "      <td>1345</td>\n",
       "      <td>52.7</td>\n",
       "      <td>196</td>\n",
       "    </tr>\n",
       "    <tr>\n",
       "      <th>5268</th>\n",
       "      <td>1</td>\n",
       "      <td>303.4</td>\n",
       "      <td>312.9</td>\n",
       "      <td>1389</td>\n",
       "      <td>54.1</td>\n",
       "      <td>109</td>\n",
       "    </tr>\n",
       "    <tr>\n",
       "      <th>9666</th>\n",
       "      <td>2</td>\n",
       "      <td>299.1</td>\n",
       "      <td>310.3</td>\n",
       "      <td>1838</td>\n",
       "      <td>24.0</td>\n",
       "      <td>235</td>\n",
       "    </tr>\n",
       "    <tr>\n",
       "      <th>6090</th>\n",
       "      <td>1</td>\n",
       "      <td>300.9</td>\n",
       "      <td>310.8</td>\n",
       "      <td>1708</td>\n",
       "      <td>29.1</td>\n",
       "      <td>14</td>\n",
       "    </tr>\n",
       "  </tbody>\n",
       "</table>\n",
       "<p>6000 rows × 6 columns</p>\n",
       "</div>"
      ],
      "text/plain": [
       "      Type  Air temperature [K]  Process temperature [K]  \\\n",
       "8588     1                297.3                    307.8   \n",
       "3178     2                300.2                    309.4   \n",
       "5200     1                303.8                    312.8   \n",
       "8889     2                297.7                    308.8   \n",
       "5789     2                301.8                    311.5   \n",
       "...    ...                  ...                      ...   \n",
       "8871     2                297.9                    309.1   \n",
       "9826     1                298.4                    309.2   \n",
       "5268     1                303.4                    312.9   \n",
       "9666     2                299.1                    310.3   \n",
       "6090     1                300.9                    310.8   \n",
       "\n",
       "      Rotational speed [rpm]  Torque [Nm]  Tool wear [min]  \n",
       "8588                    1385         44.4              169  \n",
       "3178                    1329         53.6              186  \n",
       "5200                    1416         58.7              156  \n",
       "8889                    2089         19.1              111  \n",
       "5789                    1416         49.0              136  \n",
       "...                      ...          ...              ...  \n",
       "8871                    1558         39.2               59  \n",
       "9826                    1345         52.7              196  \n",
       "5268                    1389         54.1              109  \n",
       "9666                    1838         24.0              235  \n",
       "6090                    1708         29.1               14  \n",
       "\n",
       "[6000 rows x 6 columns]"
      ]
     },
     "execution_count": 154,
     "metadata": {},
     "output_type": "execute_result"
    }
   ],
   "source": [
    "label_encoder = LabelEncoder()\n",
    "X_train['Type'] = label_encoder.fit_transform(X_train['Type'])\n",
    "X_train"
   ]
  },
  {
   "cell_type": "code",
   "execution_count": 155,
   "metadata": {
    "execution": {
     "iopub.execute_input": "2024-12-03T12:44:46.820506Z",
     "iopub.status.busy": "2024-12-03T12:44:46.819731Z",
     "iopub.status.idle": "2024-12-03T12:44:46.825178Z",
     "shell.execute_reply": "2024-12-03T12:44:46.824163Z",
     "shell.execute_reply.started": "2024-12-03T12:44:46.820475Z"
    },
    "trusted": true
   },
   "outputs": [
    {
     "name": "stdout",
     "output_type": "stream",
     "text": [
      "Mapping of original values to encoded values: {'H': 0, 'L': 1, 'M': 2}\n"
     ]
    }
   ],
   "source": [
    "mapping = dict(zip(label_encoder.classes_, label_encoder.transform(label_encoder.classes_)))\n",
    "print(\"Mapping of original values to encoded values:\", mapping)"
   ]
  },
  {
   "cell_type": "code",
   "execution_count": 156,
   "metadata": {
    "execution": {
     "iopub.execute_input": "2024-12-03T12:44:51.318656Z",
     "iopub.status.busy": "2024-12-03T12:44:51.317826Z",
     "iopub.status.idle": "2024-12-03T12:44:51.334115Z",
     "shell.execute_reply": "2024-12-03T12:44:51.333031Z",
     "shell.execute_reply.started": "2024-12-03T12:44:51.318622Z"
    },
    "trusted": true
   },
   "outputs": [
    {
     "data": {
      "text/html": [
       "<div>\n",
       "<style scoped>\n",
       "    .dataframe tbody tr th:only-of-type {\n",
       "        vertical-align: middle;\n",
       "    }\n",
       "\n",
       "    .dataframe tbody tr th {\n",
       "        vertical-align: top;\n",
       "    }\n",
       "\n",
       "    .dataframe thead th {\n",
       "        text-align: right;\n",
       "    }\n",
       "</style>\n",
       "<table border=\"1\" class=\"dataframe\">\n",
       "  <thead>\n",
       "    <tr style=\"text-align: right;\">\n",
       "      <th></th>\n",
       "      <th>Type</th>\n",
       "      <th>Air temperature [K]</th>\n",
       "      <th>Process temperature [K]</th>\n",
       "      <th>Rotational speed [rpm]</th>\n",
       "      <th>Torque [Nm]</th>\n",
       "      <th>Tool wear [min]</th>\n",
       "    </tr>\n",
       "  </thead>\n",
       "  <tbody>\n",
       "    <tr>\n",
       "      <th>6252</th>\n",
       "      <td>1</td>\n",
       "      <td>300.8</td>\n",
       "      <td>310.3</td>\n",
       "      <td>1538</td>\n",
       "      <td>36.1</td>\n",
       "      <td>198</td>\n",
       "    </tr>\n",
       "    <tr>\n",
       "      <th>4684</th>\n",
       "      <td>2</td>\n",
       "      <td>303.6</td>\n",
       "      <td>311.8</td>\n",
       "      <td>1421</td>\n",
       "      <td>44.8</td>\n",
       "      <td>101</td>\n",
       "    </tr>\n",
       "    <tr>\n",
       "      <th>1731</th>\n",
       "      <td>2</td>\n",
       "      <td>298.3</td>\n",
       "      <td>307.9</td>\n",
       "      <td>1485</td>\n",
       "      <td>42.0</td>\n",
       "      <td>117</td>\n",
       "    </tr>\n",
       "    <tr>\n",
       "      <th>4742</th>\n",
       "      <td>1</td>\n",
       "      <td>303.3</td>\n",
       "      <td>311.3</td>\n",
       "      <td>1592</td>\n",
       "      <td>33.7</td>\n",
       "      <td>14</td>\n",
       "    </tr>\n",
       "    <tr>\n",
       "      <th>4521</th>\n",
       "      <td>1</td>\n",
       "      <td>302.4</td>\n",
       "      <td>310.4</td>\n",
       "      <td>1865</td>\n",
       "      <td>23.9</td>\n",
       "      <td>129</td>\n",
       "    </tr>\n",
       "    <tr>\n",
       "      <th>...</th>\n",
       "      <td>...</td>\n",
       "      <td>...</td>\n",
       "      <td>...</td>\n",
       "      <td>...</td>\n",
       "      <td>...</td>\n",
       "      <td>...</td>\n",
       "    </tr>\n",
       "    <tr>\n",
       "      <th>6412</th>\n",
       "      <td>1</td>\n",
       "      <td>300.4</td>\n",
       "      <td>310.0</td>\n",
       "      <td>1423</td>\n",
       "      <td>44.2</td>\n",
       "      <td>189</td>\n",
       "    </tr>\n",
       "    <tr>\n",
       "      <th>8285</th>\n",
       "      <td>1</td>\n",
       "      <td>298.9</td>\n",
       "      <td>310.6</td>\n",
       "      <td>1387</td>\n",
       "      <td>52.7</td>\n",
       "      <td>2</td>\n",
       "    </tr>\n",
       "    <tr>\n",
       "      <th>7853</th>\n",
       "      <td>1</td>\n",
       "      <td>300.3</td>\n",
       "      <td>311.7</td>\n",
       "      <td>1317</td>\n",
       "      <td>56.5</td>\n",
       "      <td>7</td>\n",
       "    </tr>\n",
       "    <tr>\n",
       "      <th>1095</th>\n",
       "      <td>1</td>\n",
       "      <td>296.9</td>\n",
       "      <td>307.5</td>\n",
       "      <td>2721</td>\n",
       "      <td>9.3</td>\n",
       "      <td>18</td>\n",
       "    </tr>\n",
       "    <tr>\n",
       "      <th>6929</th>\n",
       "      <td>2</td>\n",
       "      <td>301.0</td>\n",
       "      <td>311.6</td>\n",
       "      <td>1301</td>\n",
       "      <td>55.0</td>\n",
       "      <td>9</td>\n",
       "    </tr>\n",
       "  </tbody>\n",
       "</table>\n",
       "<p>2000 rows × 6 columns</p>\n",
       "</div>"
      ],
      "text/plain": [
       "      Type  Air temperature [K]  Process temperature [K]  \\\n",
       "6252     1                300.8                    310.3   \n",
       "4684     2                303.6                    311.8   \n",
       "1731     2                298.3                    307.9   \n",
       "4742     1                303.3                    311.3   \n",
       "4521     1                302.4                    310.4   \n",
       "...    ...                  ...                      ...   \n",
       "6412     1                300.4                    310.0   \n",
       "8285     1                298.9                    310.6   \n",
       "7853     1                300.3                    311.7   \n",
       "1095     1                296.9                    307.5   \n",
       "6929     2                301.0                    311.6   \n",
       "\n",
       "      Rotational speed [rpm]  Torque [Nm]  Tool wear [min]  \n",
       "6252                    1538         36.1              198  \n",
       "4684                    1421         44.8              101  \n",
       "1731                    1485         42.0              117  \n",
       "4742                    1592         33.7               14  \n",
       "4521                    1865         23.9              129  \n",
       "...                      ...          ...              ...  \n",
       "6412                    1423         44.2              189  \n",
       "8285                    1387         52.7                2  \n",
       "7853                    1317         56.5                7  \n",
       "1095                    2721          9.3               18  \n",
       "6929                    1301         55.0                9  \n",
       "\n",
       "[2000 rows x 6 columns]"
      ]
     },
     "execution_count": 156,
     "metadata": {},
     "output_type": "execute_result"
    }
   ],
   "source": [
    "label_encoder = LabelEncoder()\n",
    "X_test['Type'] = label_encoder.fit_transform(X_test['Type'])\n",
    "X_test"
   ]
  },
  {
   "cell_type": "code",
   "execution_count": 157,
   "metadata": {
    "execution": {
     "iopub.execute_input": "2024-12-03T12:45:04.839389Z",
     "iopub.status.busy": "2024-12-03T12:45:04.838438Z",
     "iopub.status.idle": "2024-12-03T12:45:04.845015Z",
     "shell.execute_reply": "2024-12-03T12:45:04.843935Z",
     "shell.execute_reply.started": "2024-12-03T12:45:04.839356Z"
    },
    "trusted": true
   },
   "outputs": [
    {
     "name": "stdout",
     "output_type": "stream",
     "text": [
      "Mapping of original values to encoded values: {'H': 0, 'L': 1, 'M': 2}\n"
     ]
    }
   ],
   "source": [
    "mapping = dict(zip(label_encoder.classes_, label_encoder.transform(label_encoder.classes_)))\n",
    "print(\"Mapping of original values to encoded values:\", mapping)"
   ]
  },
  {
   "cell_type": "code",
   "execution_count": 158,
   "metadata": {
    "execution": {
     "iopub.execute_input": "2024-12-03T12:45:16.459574Z",
     "iopub.status.busy": "2024-12-03T12:45:16.459237Z",
     "iopub.status.idle": "2024-12-03T12:45:16.476499Z",
     "shell.execute_reply": "2024-12-03T12:45:16.475382Z",
     "shell.execute_reply.started": "2024-12-03T12:45:16.459545Z"
    },
    "trusted": true
   },
   "outputs": [
    {
     "data": {
      "text/html": [
       "<div>\n",
       "<style scoped>\n",
       "    .dataframe tbody tr th:only-of-type {\n",
       "        vertical-align: middle;\n",
       "    }\n",
       "\n",
       "    .dataframe tbody tr th {\n",
       "        vertical-align: top;\n",
       "    }\n",
       "\n",
       "    .dataframe thead th {\n",
       "        text-align: right;\n",
       "    }\n",
       "</style>\n",
       "<table border=\"1\" class=\"dataframe\">\n",
       "  <thead>\n",
       "    <tr style=\"text-align: right;\">\n",
       "      <th></th>\n",
       "      <th>Type</th>\n",
       "      <th>Air temperature [K]</th>\n",
       "      <th>Process temperature [K]</th>\n",
       "      <th>Rotational speed [rpm]</th>\n",
       "      <th>Torque [Nm]</th>\n",
       "      <th>Tool wear [min]</th>\n",
       "    </tr>\n",
       "  </thead>\n",
       "  <tbody>\n",
       "    <tr>\n",
       "      <th>3188</th>\n",
       "      <td>2</td>\n",
       "      <td>300.1</td>\n",
       "      <td>309.2</td>\n",
       "      <td>1438</td>\n",
       "      <td>51.0</td>\n",
       "      <td>211</td>\n",
       "    </tr>\n",
       "    <tr>\n",
       "      <th>8293</th>\n",
       "      <td>2</td>\n",
       "      <td>298.9</td>\n",
       "      <td>310.4</td>\n",
       "      <td>1533</td>\n",
       "      <td>44.4</td>\n",
       "      <td>24</td>\n",
       "    </tr>\n",
       "    <tr>\n",
       "      <th>1710</th>\n",
       "      <td>1</td>\n",
       "      <td>298.2</td>\n",
       "      <td>307.8</td>\n",
       "      <td>1530</td>\n",
       "      <td>35.9</td>\n",
       "      <td>68</td>\n",
       "    </tr>\n",
       "    <tr>\n",
       "      <th>7510</th>\n",
       "      <td>1</td>\n",
       "      <td>300.5</td>\n",
       "      <td>311.8</td>\n",
       "      <td>1524</td>\n",
       "      <td>38.9</td>\n",
       "      <td>214</td>\n",
       "    </tr>\n",
       "    <tr>\n",
       "      <th>1461</th>\n",
       "      <td>1</td>\n",
       "      <td>298.9</td>\n",
       "      <td>310.2</td>\n",
       "      <td>1491</td>\n",
       "      <td>45.1</td>\n",
       "      <td>101</td>\n",
       "    </tr>\n",
       "    <tr>\n",
       "      <th>...</th>\n",
       "      <td>...</td>\n",
       "      <td>...</td>\n",
       "      <td>...</td>\n",
       "      <td>...</td>\n",
       "      <td>...</td>\n",
       "      <td>...</td>\n",
       "    </tr>\n",
       "    <tr>\n",
       "      <th>2834</th>\n",
       "      <td>1</td>\n",
       "      <td>300.3</td>\n",
       "      <td>309.1</td>\n",
       "      <td>1368</td>\n",
       "      <td>46.0</td>\n",
       "      <td>171</td>\n",
       "    </tr>\n",
       "    <tr>\n",
       "      <th>449</th>\n",
       "      <td>1</td>\n",
       "      <td>297.6</td>\n",
       "      <td>308.7</td>\n",
       "      <td>1622</td>\n",
       "      <td>37.9</td>\n",
       "      <td>79</td>\n",
       "    </tr>\n",
       "    <tr>\n",
       "      <th>6686</th>\n",
       "      <td>1</td>\n",
       "      <td>301.7</td>\n",
       "      <td>311.0</td>\n",
       "      <td>1715</td>\n",
       "      <td>24.8</td>\n",
       "      <td>17</td>\n",
       "    </tr>\n",
       "    <tr>\n",
       "      <th>3561</th>\n",
       "      <td>1</td>\n",
       "      <td>301.7</td>\n",
       "      <td>310.6</td>\n",
       "      <td>1486</td>\n",
       "      <td>38.5</td>\n",
       "      <td>78</td>\n",
       "    </tr>\n",
       "    <tr>\n",
       "      <th>9595</th>\n",
       "      <td>0</td>\n",
       "      <td>299.0</td>\n",
       "      <td>310.1</td>\n",
       "      <td>1432</td>\n",
       "      <td>50.0</td>\n",
       "      <td>45</td>\n",
       "    </tr>\n",
       "  </tbody>\n",
       "</table>\n",
       "<p>2000 rows × 6 columns</p>\n",
       "</div>"
      ],
      "text/plain": [
       "      Type  Air temperature [K]  Process temperature [K]  \\\n",
       "3188     2                300.1                    309.2   \n",
       "8293     2                298.9                    310.4   \n",
       "1710     1                298.2                    307.8   \n",
       "7510     1                300.5                    311.8   \n",
       "1461     1                298.9                    310.2   \n",
       "...    ...                  ...                      ...   \n",
       "2834     1                300.3                    309.1   \n",
       "449      1                297.6                    308.7   \n",
       "6686     1                301.7                    311.0   \n",
       "3561     1                301.7                    310.6   \n",
       "9595     0                299.0                    310.1   \n",
       "\n",
       "      Rotational speed [rpm]  Torque [Nm]  Tool wear [min]  \n",
       "3188                    1438         51.0              211  \n",
       "8293                    1533         44.4               24  \n",
       "1710                    1530         35.9               68  \n",
       "7510                    1524         38.9              214  \n",
       "1461                    1491         45.1              101  \n",
       "...                      ...          ...              ...  \n",
       "2834                    1368         46.0              171  \n",
       "449                     1622         37.9               79  \n",
       "6686                    1715         24.8               17  \n",
       "3561                    1486         38.5               78  \n",
       "9595                    1432         50.0               45  \n",
       "\n",
       "[2000 rows x 6 columns]"
      ]
     },
     "execution_count": 158,
     "metadata": {},
     "output_type": "execute_result"
    }
   ],
   "source": [
    "label_encoder = LabelEncoder()\n",
    "X_val['Type'] = label_encoder.fit_transform(X_val['Type'])\n",
    "X_val"
   ]
  },
  {
   "cell_type": "code",
   "execution_count": 159,
   "metadata": {
    "execution": {
     "iopub.execute_input": "2024-12-03T12:45:21.078804Z",
     "iopub.status.busy": "2024-12-03T12:45:21.078151Z",
     "iopub.status.idle": "2024-12-03T12:45:21.084014Z",
     "shell.execute_reply": "2024-12-03T12:45:21.083079Z",
     "shell.execute_reply.started": "2024-12-03T12:45:21.078775Z"
    },
    "trusted": true
   },
   "outputs": [
    {
     "name": "stdout",
     "output_type": "stream",
     "text": [
      "Mapping of original values to encoded values: {'H': 0, 'L': 1, 'M': 2}\n"
     ]
    }
   ],
   "source": [
    "mapping = dict(zip(label_encoder.classes_, label_encoder.transform(label_encoder.classes_)))\n",
    "print(\"Mapping of original values to encoded values:\", mapping)"
   ]
  },
  {
   "cell_type": "code",
   "execution_count": 160,
   "metadata": {
    "execution": {
     "iopub.execute_input": "2024-11-02T10:33:40.951563Z",
     "iopub.status.busy": "2024-11-02T10:33:40.950779Z",
     "iopub.status.idle": "2024-11-02T10:33:41.146369Z",
     "shell.execute_reply": "2024-11-02T10:33:41.145389Z",
     "shell.execute_reply.started": "2024-11-02T10:33:40.951527Z"
    },
    "trusted": true
   },
   "outputs": [],
   "source": [
    "#importing SVM from sklearn\n",
    "# Sklearn modules & classes\n",
    "from sklearn.linear_model import Perceptron, LogisticRegression\n",
    "from sklearn.svm import SVC\n",
    "from sklearn.model_selection import train_test_split\n",
    "from sklearn.preprocessing import StandardScaler\n",
    "from sklearn import datasets\n",
    "from sklearn import metrics\n",
    "from sklearn.ensemble import RandomForestClassifier\n",
    "\n",
    "# Instantiate the Support Vector Classifier (SVC)\n"
   ]
  },
  {
   "cell_type": "code",
   "execution_count": 161,
   "metadata": {
    "execution": {
     "iopub.execute_input": "2024-12-03T12:45:37.499816Z",
     "iopub.status.busy": "2024-12-03T12:45:37.499451Z",
     "iopub.status.idle": "2024-12-03T12:45:39.261100Z",
     "shell.execute_reply": "2024-12-03T12:45:39.259851Z",
     "shell.execute_reply.started": "2024-12-03T12:45:37.499788Z"
    },
    "trusted": true
   },
   "outputs": [],
   "source": [
    "X_test = X_test.drop('Rotational speed [rpm]', axis=1)\n",
    "X_train = X_train.drop('Rotational speed [rpm]', axis=1)\n",
    "X_val = X_val.drop('Rotational speed [rpm]', axis=1)"
   ]
  },
  {
   "cell_type": "code",
   "execution_count": 162,
   "metadata": {
    "execution": {
     "iopub.execute_input": "2024-12-03T12:45:51.375304Z",
     "iopub.status.busy": "2024-12-03T12:45:51.374816Z",
     "iopub.status.idle": "2024-12-03T12:45:52.613699Z",
     "shell.execute_reply": "2024-12-03T12:45:52.612591Z",
     "shell.execute_reply.started": "2024-12-03T12:45:51.375267Z"
    },
    "trusted": true
   },
   "outputs": [
    {
     "name": "stderr",
     "output_type": "stream",
     "text": [
      "C:\\Users\\Dheera\\AppData\\Local\\Temp\\ipykernel_12144\\2695874865.py:3: UserWarning: To output multiple subplots, the figure containing the passed axes is being cleared.\n",
      "  X_train.plot(ax=ax, kind = 'box', subplots=True, layout=(6,4), sharex=False)\n"
     ]
    },
    {
     "data": {
      "image/png": "[encoded data removed]",
      "text/plain": [
       "<Figure size 1500x2000 with 24 Axes>"
      ]
     },
     "metadata": {},
     "output_type": "display_data"
    }
   ],
   "source": [
    "fig = plt.figure(figsize = (15, 20))\n",
    "ax = fig.gca()\n",
    "X_train.plot(ax=ax, kind = 'box', subplots=True, layout=(6,4), sharex=False)\n",
    "plt.show()"
   ]
  },
  {
   "cell_type": "code",
   "execution_count": 163,
   "metadata": {},
   "outputs": [
    {
     "data": {
      "text/html": [
       "<div>\n",
       "<style scoped>\n",
       "    .dataframe tbody tr th:only-of-type {\n",
       "        vertical-align: middle;\n",
       "    }\n",
       "\n",
       "    .dataframe tbody tr th {\n",
       "        vertical-align: top;\n",
       "    }\n",
       "\n",
       "    .dataframe thead th {\n",
       "        text-align: right;\n",
       "    }\n",
       "</style>\n",
       "<table border=\"1\" class=\"dataframe\">\n",
       "  <thead>\n",
       "    <tr style=\"text-align: right;\">\n",
       "      <th></th>\n",
       "      <th>Type</th>\n",
       "      <th>Air temperature [K]</th>\n",
       "      <th>Process temperature [K]</th>\n",
       "      <th>Torque [Nm]</th>\n",
       "      <th>Tool wear [min]</th>\n",
       "    </tr>\n",
       "  </thead>\n",
       "  <tbody>\n",
       "    <tr>\n",
       "      <th>8588</th>\n",
       "      <td>1</td>\n",
       "      <td>297.3</td>\n",
       "      <td>307.8</td>\n",
       "      <td>44.4</td>\n",
       "      <td>169</td>\n",
       "    </tr>\n",
       "    <tr>\n",
       "      <th>3178</th>\n",
       "      <td>2</td>\n",
       "      <td>300.2</td>\n",
       "      <td>309.4</td>\n",
       "      <td>53.6</td>\n",
       "      <td>186</td>\n",
       "    </tr>\n",
       "    <tr>\n",
       "      <th>5200</th>\n",
       "      <td>1</td>\n",
       "      <td>303.8</td>\n",
       "      <td>312.8</td>\n",
       "      <td>58.7</td>\n",
       "      <td>156</td>\n",
       "    </tr>\n",
       "    <tr>\n",
       "      <th>8889</th>\n",
       "      <td>2</td>\n",
       "      <td>297.7</td>\n",
       "      <td>308.8</td>\n",
       "      <td>19.1</td>\n",
       "      <td>111</td>\n",
       "    </tr>\n",
       "    <tr>\n",
       "      <th>5789</th>\n",
       "      <td>2</td>\n",
       "      <td>301.8</td>\n",
       "      <td>311.5</td>\n",
       "      <td>49.0</td>\n",
       "      <td>136</td>\n",
       "    </tr>\n",
       "    <tr>\n",
       "      <th>...</th>\n",
       "      <td>...</td>\n",
       "      <td>...</td>\n",
       "      <td>...</td>\n",
       "      <td>...</td>\n",
       "      <td>...</td>\n",
       "    </tr>\n",
       "    <tr>\n",
       "      <th>8871</th>\n",
       "      <td>2</td>\n",
       "      <td>297.9</td>\n",
       "      <td>309.1</td>\n",
       "      <td>39.2</td>\n",
       "      <td>59</td>\n",
       "    </tr>\n",
       "    <tr>\n",
       "      <th>9826</th>\n",
       "      <td>1</td>\n",
       "      <td>298.4</td>\n",
       "      <td>309.2</td>\n",
       "      <td>52.7</td>\n",
       "      <td>196</td>\n",
       "    </tr>\n",
       "    <tr>\n",
       "      <th>5268</th>\n",
       "      <td>1</td>\n",
       "      <td>303.4</td>\n",
       "      <td>312.9</td>\n",
       "      <td>54.1</td>\n",
       "      <td>109</td>\n",
       "    </tr>\n",
       "    <tr>\n",
       "      <th>9666</th>\n",
       "      <td>2</td>\n",
       "      <td>299.1</td>\n",
       "      <td>310.3</td>\n",
       "      <td>24.0</td>\n",
       "      <td>235</td>\n",
       "    </tr>\n",
       "    <tr>\n",
       "      <th>6090</th>\n",
       "      <td>1</td>\n",
       "      <td>300.9</td>\n",
       "      <td>310.8</td>\n",
       "      <td>29.1</td>\n",
       "      <td>14</td>\n",
       "    </tr>\n",
       "  </tbody>\n",
       "</table>\n",
       "<p>6000 rows × 5 columns</p>\n",
       "</div>"
      ],
      "text/plain": [
       "      Type  Air temperature [K]  Process temperature [K]  Torque [Nm]  \\\n",
       "8588     1                297.3                    307.8         44.4   \n",
       "3178     2                300.2                    309.4         53.6   \n",
       "5200     1                303.8                    312.8         58.7   \n",
       "8889     2                297.7                    308.8         19.1   \n",
       "5789     2                301.8                    311.5         49.0   \n",
       "...    ...                  ...                      ...          ...   \n",
       "8871     2                297.9                    309.1         39.2   \n",
       "9826     1                298.4                    309.2         52.7   \n",
       "5268     1                303.4                    312.9         54.1   \n",
       "9666     2                299.1                    310.3         24.0   \n",
       "6090     1                300.9                    310.8         29.1   \n",
       "\n",
       "      Tool wear [min]  \n",
       "8588              169  \n",
       "3178              186  \n",
       "5200              156  \n",
       "8889              111  \n",
       "5789              136  \n",
       "...               ...  \n",
       "8871               59  \n",
       "9826              196  \n",
       "5268              109  \n",
       "9666              235  \n",
       "6090               14  \n",
       "\n",
       "[6000 rows x 5 columns]"
      ]
     },
     "execution_count": 163,
     "metadata": {},
     "output_type": "execute_result"
    }
   ],
   "source": [
    "# handle outliers of the Torque column in X_train\n",
    "# Calculate Q1, Q3, and IQR\n",
    "Q1 = X_train[\"Torque [Nm]\"].quantile(0.25)\n",
    "Q3 = X_train[\"Torque [Nm]\"].quantile(0.75)\n",
    "\n",
    "IQR = Q3 - Q1\n",
    "\n",
    "# Calculate lower and upper bounds\n",
    "lower_bound = Q1 - 1.5 * IQR\n",
    "upper_bound = Q3 + 1.5 * IQR\n",
    "\n",
    "# Define outliers based on the bounds\n",
    "outliers = X_train[(X_train[\"Torque [Nm]\"] < lower_bound) | (X_train[\"Torque [Nm]\"] > upper_bound)]\n",
    "\n",
    "# Count the number of outliers\n",
    "number_of_outliers = outliers.shape[0]\n",
    "\n",
    "# Output the number of outliers\n",
    "# number_of_outliers\n",
    "\n",
    "# Display the values of the outliers\n",
    "outliers_values = outliers[\"Torque [Nm]\"].values\n",
    "\n",
    "# Output the outliers' values\n",
    "# outliers_values\n",
    "\n",
    "\n",
    "# Cap the values exceeding the upper bound\n",
    "X_train.loc[X_train[\"Torque [Nm]\"] > upper_bound, \"Torque [Nm]\"] = upper_bound\n",
    "\n",
    "# Cap the values below the lower bound\n",
    "X_train.loc[X_train[\"Torque [Nm]\"] < lower_bound, \"Torque [Nm]\"] = lower_bound\n",
    "\n",
    "X_train"
   ]
  },
  {
   "cell_type": "code",
   "execution_count": 164,
   "metadata": {},
   "outputs": [
    {
     "name": "stderr",
     "output_type": "stream",
     "text": [
      "C:\\Users\\Dheera\\AppData\\Local\\Temp\\ipykernel_12144\\2695874865.py:3: UserWarning: To output multiple subplots, the figure containing the passed axes is being cleared.\n",
      "  X_train.plot(ax=ax, kind = 'box', subplots=True, layout=(6,4), sharex=False)\n"
     ]
    },
    {
     "data": {
      "image/png": "[encoded data removed]",
      "text/plain": [
       "<Figure size 1500x2000 with 24 Axes>"
      ]
     },
     "metadata": {},
     "output_type": "display_data"
    }
   ],
   "source": [
    "fig = plt.figure(figsize = (15, 20))\n",
    "ax = fig.gca()\n",
    "X_train.plot(ax=ax, kind = 'box', subplots=True, layout=(6,4), sharex=False)\n",
    "plt.show()"
   ]
  },
  {
   "cell_type": "code",
   "execution_count": 165,
   "metadata": {
    "execution": {
     "iopub.execute_input": "2024-12-03T12:45:58.970892Z",
     "iopub.status.busy": "2024-12-03T12:45:58.970517Z",
     "iopub.status.idle": "2024-12-03T12:45:59.178205Z",
     "shell.execute_reply": "2024-12-03T12:45:59.177220Z",
     "shell.execute_reply.started": "2024-12-03T12:45:58.970862Z"
    },
    "trusted": true
   },
   "outputs": [
    {
     "name": "stdout",
     "output_type": "stream",
     "text": [
      "Validation Accuracy: 0.973\n",
      "Validation Classification Report:\n",
      "               precision    recall  f1-score   support\n",
      "\n",
      "           0       0.33      0.10      0.15        20\n",
      "           1       0.98      0.99      0.99      1938\n",
      "           2       0.60      0.50      0.55        12\n",
      "           3       0.62      0.56      0.59        18\n",
      "           4       0.00      0.00      0.00         3\n",
      "           5       0.00      0.00      0.00         9\n",
      "\n",
      "    accuracy                           0.97      2000\n",
      "   macro avg       0.42      0.36      0.38      2000\n",
      "weighted avg       0.96      0.97      0.97      2000\n",
      "\n",
      "Test Accuracy: 0.975\n",
      "Test Classification Report:\n",
      "               precision    recall  f1-score   support\n",
      "\n",
      "           0       0.29      0.13      0.18        15\n",
      "           1       0.98      0.99      0.99      1935\n",
      "           2       0.80      0.62      0.70        13\n",
      "           3       0.78      0.70      0.74        20\n",
      "           4       0.00      0.00      0.00         6\n",
      "           5       0.00      0.00      0.00        11\n",
      "\n",
      "    accuracy                           0.97      2000\n",
      "   macro avg       0.47      0.41      0.43      2000\n",
      "weighted avg       0.96      0.97      0.97      2000\n",
      "\n",
      "Confusion Matrix:\n",
      " [[   2   13    0    0    0    0]\n",
      " [   5 1925    1    4    0    0]\n",
      " [   0    5    8    0    0    0]\n",
      " [   0    5    1   14    0    0]\n",
      " [   0    6    0    0    0    0]\n",
      " [   0   11    0    0    0    0]]\n"
     ]
    },
    {
     "name": "stderr",
     "output_type": "stream",
     "text": [
      "d:\\Anaconda\\Installation\\Lib\\site-packages\\sklearn\\metrics\\_classification.py:1509: UndefinedMetricWarning: Precision is ill-defined and being set to 0.0 in labels with no predicted samples. Use `zero_division` parameter to control this behavior.\n",
      "  _warn_prf(average, modifier, f\"{metric.capitalize()} is\", len(result))\n",
      "d:\\Anaconda\\Installation\\Lib\\site-packages\\sklearn\\metrics\\_classification.py:1509: UndefinedMetricWarning: Precision is ill-defined and being set to 0.0 in labels with no predicted samples. Use `zero_division` parameter to control this behavior.\n",
      "  _warn_prf(average, modifier, f\"{metric.capitalize()} is\", len(result))\n",
      "d:\\Anaconda\\Installation\\Lib\\site-packages\\sklearn\\metrics\\_classification.py:1509: UndefinedMetricWarning: Precision is ill-defined and being set to 0.0 in labels with no predicted samples. Use `zero_division` parameter to control this behavior.\n",
      "  _warn_prf(average, modifier, f\"{metric.capitalize()} is\", len(result))\n",
      "d:\\Anaconda\\Installation\\Lib\\site-packages\\sklearn\\metrics\\_classification.py:1509: UndefinedMetricWarning: Precision is ill-defined and being set to 0.0 in labels with no predicted samples. Use `zero_division` parameter to control this behavior.\n",
      "  _warn_prf(average, modifier, f\"{metric.capitalize()} is\", len(result))\n",
      "d:\\Anaconda\\Installation\\Lib\\site-packages\\sklearn\\metrics\\_classification.py:1509: UndefinedMetricWarning: Precision is ill-defined and being set to 0.0 in labels with no predicted samples. Use `zero_division` parameter to control this behavior.\n",
      "  _warn_prf(average, modifier, f\"{metric.capitalize()} is\", len(result))\n",
      "d:\\Anaconda\\Installation\\Lib\\site-packages\\sklearn\\metrics\\_classification.py:1509: UndefinedMetricWarning: Precision is ill-defined and being set to 0.0 in labels with no predicted samples. Use `zero_division` parameter to control this behavior.\n",
      "  _warn_prf(average, modifier, f\"{metric.capitalize()} is\", len(result))\n"
     ]
    }
   ],
   "source": [
    "from sklearn.preprocessing import StandardScaler\n",
    "from sklearn.ensemble import RandomForestClassifier\n",
    "from sklearn.metrics import accuracy_score, classification_report, confusion_matrix\n",
    "\n",
    "# Scale the data\n",
    "scaler = StandardScaler()\n",
    "X_train = scaler.fit_transform(X_train)\n",
    "X_val = scaler.transform(X_val)\n",
    "X_test = scaler.transform(X_test)\n",
    "\n",
    "# Train the Random Forest model on the training set\n",
    "rf = RandomForestClassifier(n_estimators=100, random_state=42, max_depth=None)  # You can tune parameters\n",
    "rf.fit(X_train, y_train)\n",
    "\n",
    "# Evaluate the model on the validation set\n",
    "y_val_pred = rf.predict(X_val)\n",
    "val_accuracy = accuracy_score(y_val, y_val_pred)\n",
    "\n",
    "print(\"Validation Accuracy: %.3f\" % val_accuracy)\n",
    "print(\"Validation Classification Report:\\n\", classification_report(y_val, y_val_pred))\n",
    "\n",
    "# If satisfied with validation performance, evaluate the model on the test set\n",
    "y_test_pred = rf.predict(X_test)\n",
    "test_accuracy = accuracy_score(y_test, y_test_pred)\n",
    "\n",
    "print(\"Test Accuracy: %.3f\" % test_accuracy)\n",
    "print(\"Test Classification Report:\\n\", classification_report(y_test, y_test_pred))\n",
    "print(\"Confusion Matrix:\\n\", confusion_matrix(y_test, y_test_pred))\n"
   ]
  },
  {
   "cell_type": "code",
   "execution_count": 166,
   "metadata": {
    "execution": {
     "iopub.execute_input": "2024-12-03T12:47:09.941098Z",
     "iopub.status.busy": "2024-12-03T12:47:09.940723Z",
     "iopub.status.idle": "2024-12-03T12:47:09.948938Z",
     "shell.execute_reply": "2024-12-03T12:47:09.947902Z",
     "shell.execute_reply.started": "2024-12-03T12:47:09.941062Z"
    },
    "trusted": true
   },
   "outputs": [
    {
     "data": {
      "text/plain": [
       "array([[-0.32966823, -1.34700212, -1.48337154,  0.44425222,  0.96037007],\n",
       "       [ 1.32418578,  0.09382784, -0.40818869,  1.37051706,  1.22773149],\n",
       "       [-0.32966823,  1.88244434,  1.87657487,  1.88398997,  0.75591722],\n",
       "       ...,\n",
       "       [-0.32966823,  1.68370918,  1.9437738 ,  1.42085755,  0.01674154],\n",
       "       [ 1.32418578, -0.45269387,  0.19660166, -1.60963938,  1.99836145],\n",
       "       [-0.32966823,  0.44161438,  0.53259631, -1.09616648, -1.47733696]])"
      ]
     },
     "execution_count": 166,
     "metadata": {},
     "output_type": "execute_result"
    }
   ],
   "source": [
    "X_train"
   ]
  }
 ],
 "metadata": {
  "kaggle": {
   "accelerator": "none",
   "dataSources": [
    {
     "datasetId": 1697740,
     "sourceId": 2781015,
     "sourceType": "datasetVersion"
    }
   ],
   "dockerImageVersionId": 30746,
   "isGpuEnabled": false,
   "isInternetEnabled": true,
   "language": "python",
   "sourceType": "notebook"
  },
  "kernelspec": {
   "display_name": "base",
   "language": "python",
   "name": "python3"
  },
  "language_info": {
   "codemirror_mode": {
    "name": "ipython",
    "version": 3
   },
   "file_extension": ".py",
   "mimetype": "text/x-python",
   "name": "python",
   "nbconvert_exporter": "python",
   "pygments_lexer": "ipython3",
   "version": "3.12.4"
  }
 },
 "nbformat": 4,
 "nbformat_minor": 4
}
