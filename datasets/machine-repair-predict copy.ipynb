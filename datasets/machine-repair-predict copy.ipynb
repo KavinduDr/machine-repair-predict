{
 "cells": [
  {
   "cell_type": "code",
   "execution_count": null,
   "metadata": {
    "_cell_guid": "b1076dfc-b9ad-4769-8c92-a6c4dae69d19",
    "_uuid": "8f2839f25d086af736a60e9eeb907d3b93b6e0e5"
   },
   "outputs": [],
   "source": [
    "# This Python 3 environment comes with many helpful analytics libraries installed\n",
    "# It is defined by the kaggle/python Docker image: https://github.com/kaggle/docker-python\n",
    "# For example, here's several helpful packages to load\n",
    "\n",
    "import numpy as np # linear algebra\n",
    "import pandas as pd # data processing, CSV file I/O (e.g. pd.read_csv)\n",
    "\n",
    "# Input data files are available in the read-only \"../input/\" directory\n",
    "# For example, running this (by clicking run or pressing Shift+Enter) will list all files under the input directory\n",
    "\n",
    "import os\n",
    "for dirname, _, filenames in os.walk('/kaggle/input'):\n",
    "    for filename in filenames:\n",
    "        print(os.path.join(dirname, filename))\n",
    "\n",
    "# You can write up to 20GB to the current directory (/kaggle/working/) that gets preserved as output when you create a version using \"Save & Run All\" \n",
    "# You can also write temporary files to /kaggle/temp/, but they won't be saved outside of the current session"
   ]
  },
  {
   "cell_type": "code",
   "execution_count": null,
   "metadata": {},
   "outputs": [],
   "source": [
    "data = pd.read_csv('predictive_maintenance.csv')\n",
    "data #see whether dataset loaded"
   ]
  },
  {
   "cell_type": "code",
   "execution_count": null,
   "metadata": {},
   "outputs": [],
   "source": [
    "data.isnull().sum() #checking nulls"
   ]
  },
  {
   "cell_type": "code",
   "execution_count": null,
   "metadata": {},
   "outputs": [],
   "source": [
    "data.duplicated().sum() #checking duplicates"
   ]
  },
  {
   "cell_type": "code",
   "execution_count": null,
   "metadata": {},
   "outputs": [],
   "source": [
    "import matplotlib.pyplot as plt\n",
    "fig = plt.figure(figsize = (15, 20))\n",
    "ax = fig.gca()\n",
    "data.plot(ax=ax, kind = 'box', subplots=True, layout=(6,4), sharex=False)\n",
    "plt.show()"
   ]
  },
  {
   "cell_type": "code",
   "execution_count": null,
   "metadata": {},
   "outputs": [],
   "source": [
    "# Counting outliers of Rotational speed column\n",
    "# Calculate Q1, Q3, and IQR\n",
    "Q1 = data[\"Rotational speed [rpm]\"].quantile(0.25)\n",
    "Q3 = data[\"Rotational speed [rpm]\"].quantile(0.75)\n",
    "IQR = Q3 - Q1\n",
    "\n",
    "# Calculate lower and upper bounds\n",
    "lower_bound = Q1 - 1.5 * IQR\n",
    "upper_bound = Q3 + 1.5 * IQR\n",
    "\n",
    "# Define outliers based on the bounds\n",
    "outliers = data[(data[\"Rotational speed [rpm]\"] < lower_bound) | (data[\"Rotational speed [rpm]\"] > upper_bound)]\n",
    "\n",
    "# Count the number of outliers\n",
    "number_of_outliers = outliers.shape[0]\n",
    "\n",
    "# Output the number of outliers\n",
    "number_of_outliers\n"
   ]
  },
  {
   "cell_type": "code",
   "execution_count": null,
   "metadata": {},
   "outputs": [],
   "source": [
    "# Counting outliers of Torque [Nm] column\n",
    "# Calculate Q1, Q3, and IQR\n",
    "Q1 = data[\"Torque [Nm]\"].quantile(0.25)\n",
    "Q3 = data[\"Torque [Nm]\"].quantile(0.75)\n",
    "IQR = Q3 - Q1\n",
    "\n",
    "# Calculate lower and upper bounds\n",
    "lower_bound = Q1 - 1.5 * IQR\n",
    "upper_bound = Q3 + 1.5 * IQR\n",
    "\n",
    "# Define outliers based on the bounds\n",
    "outliers = data[(data[\"Torque [Nm]\"] < lower_bound) | (data[\"Torque [Nm]\"] > upper_bound)]\n",
    "\n",
    "# Count the number of outliers\n",
    "number_of_outliers = outliers.shape[0]\n",
    "\n",
    "# Output the number of outliers\n",
    "number_of_outliers"
   ]
  },
  {
   "cell_type": "code",
   "execution_count": null,
   "metadata": {},
   "outputs": [],
   "source": [
    "copied_df = data.copy() #copying dataset to maipulate the data\n",
    "copied_df"
   ]
  },
  {
   "cell_type": "code",
   "execution_count": null,
   "metadata": {},
   "outputs": [],
   "source": [
    "# Check unique values in the column\n",
    "unique_values = copied_df['Failure Type'].unique()\n",
    "print(unique_values)"
   ]
  },
  {
   "cell_type": "code",
   "execution_count": null,
   "metadata": {},
   "outputs": [],
   "source": [
    "unique_values = copied_df['Target'].unique()\n",
    "print(unique_values)"
   ]
  },
  {
   "cell_type": "code",
   "execution_count": null,
   "metadata": {},
   "outputs": [],
   "source": [
    "unique_values = copied_df['Type'].unique()\n",
    "print(unique_values)"
   ]
  },
  {
   "cell_type": "code",
   "execution_count": null,
   "metadata": {},
   "outputs": [],
   "source": [
    "# train test validate spliting data\n",
    "from sklearn.model_selection import train_test_split\n",
    "\n",
    "# feature column and target column\n",
    "X = copied_df.drop(columns=['Failure Type', 'Target','UDI','Product ID'])\n",
    "y = copied_df['Failure Type']\n",
    "\n",
    "X_train_val, X_test, y_train_val, y_test = train_test_split(X, y, test_size=0.2, random_state=42)\n",
    "\n",
    "# Split train+validation into training and validation sets\n",
    "X_train, X_val, y_train, y_val = train_test_split(X_train_val, y_train_val, test_size=0.25, random_state=42)\n",
    "\n",
    "# Verify the splits\n",
    "print(\"Training set shape:\", X_train.shape)\n",
    "print(\"Validation set shape:\", X_val.shape)\n",
    "print(\"Test set shape:\", X_test.shape)\n"
   ]
  },
  {
   "cell_type": "code",
   "execution_count": null,
   "metadata": {},
   "outputs": [],
   "source": [
    "X_train"
   ]
  },
  {
   "cell_type": "code",
   "execution_count": null,
   "metadata": {},
   "outputs": [],
   "source": [
    "X_test"
   ]
  },
  {
   "cell_type": "code",
   "execution_count": null,
   "metadata": {},
   "outputs": [],
   "source": [
    "X_val"
   ]
  },
  {
   "cell_type": "code",
   "execution_count": null,
   "metadata": {},
   "outputs": [],
   "source": [
    "y_train"
   ]
  },
  {
   "cell_type": "code",
   "execution_count": null,
   "metadata": {},
   "outputs": [],
   "source": [
    "y_test"
   ]
  },
  {
   "cell_type": "code",
   "execution_count": null,
   "metadata": {},
   "outputs": [],
   "source": [
    "y_val"
   ]
  },
  {
   "cell_type": "markdown",
   "metadata": {},
   "source": [
    "**Need to check on outliers**"
   ]
  },
  {
   "cell_type": "markdown",
   "metadata": {},
   "source": [
    "X_train"
   ]
  },
  {
   "cell_type": "code",
   "execution_count": null,
   "metadata": {},
   "outputs": [],
   "source": [
    "fig = plt.figure(figsize = (15, 20))\n",
    "ax = fig.gca()\n",
    "X_train.plot(ax=ax, kind = 'box', subplots=True, layout=(6,4), sharex=False)\n",
    "plt.show()"
   ]
  },
  {
   "cell_type": "code",
   "execution_count": null,
   "metadata": {},
   "outputs": [],
   "source": [
    "# Counting outliers of Rotational speed column\n",
    "# Calculate Q1, Q3, and IQR\n",
    "Q1 = X_train[\"Rotational speed [rpm]\"].quantile(0.25)\n",
    "Q3 = X_train[\"Rotational speed [rpm]\"].quantile(0.75)\n",
    "IQR = Q3 - Q1\n",
    "\n",
    "# Calculate lower and upper bounds\n",
    "lower_bound = Q1 - 1.5 * IQR\n",
    "upper_bound = Q3 + 1.5 * IQR\n",
    "\n",
    "# Define outliers based on the bounds\n",
    "outliers = X_train[(X_train[\"Rotational speed [rpm]\"] < lower_bound) | (X_train[\"Rotational speed [rpm]\"] > upper_bound)]\n",
    "\n",
    "# Count the number of outliers\n",
    "number_of_outliers = outliers.shape[0]\n",
    "\n",
    "# Output the number of outliers\n",
    "number_of_outliers"
   ]
  },
  {
   "cell_type": "code",
   "execution_count": null,
   "metadata": {},
   "outputs": [],
   "source": [
    "# Counting outliers of Torque [Nm] column\n",
    "# Calculate Q1, Q3, and IQR\n",
    "Q1 = X_train[\"Torque [Nm]\"].quantile(0.25)\n",
    "Q3 = X_train[\"Torque [Nm]\"].quantile(0.75)\n",
    "IQR = Q3 - Q1\n",
    "\n",
    "# Calculate lower and upper bounds\n",
    "lower_bound = Q1 - 1.5 * IQR\n",
    "upper_bound = Q3 + 1.5 * IQR\n",
    "\n",
    "# Define outliers based on the bounds\n",
    "outliers = X_train[(X_train[\"Torque [Nm]\"] < lower_bound) | (X_train[\"Torque [Nm]\"] > upper_bound)]\n",
    "\n",
    "# Count the number of outliers\n",
    "number_of_outliers = outliers.shape[0]\n",
    "\n",
    "# Output the number of outliers\n",
    "number_of_outliers"
   ]
  },
  {
   "cell_type": "code",
   "execution_count": null,
   "metadata": {},
   "outputs": [],
   "source": [
    "unique_values = X_train['Rotational speed [rpm]'].unique()\n",
    "unique_values"
   ]
  },
  {
   "cell_type": "code",
   "execution_count": null,
   "metadata": {},
   "outputs": [],
   "source": [
    "fig = plt.figure(figsize = (15, 20))\n",
    "ax = fig.gca()\n",
    "X_train.plot(ax=ax, kind = 'box', subplots=True, layout=(6,4), sharex=False)\n",
    "plt.show()"
   ]
  },
  {
   "cell_type": "markdown",
   "metadata": {},
   "source": [
    "Encoding Failure types"
   ]
  },
  {
   "cell_type": "code",
   "execution_count": null,
   "metadata": {},
   "outputs": [],
   "source": [
    "from sklearn.preprocessing import LabelEncoder\n",
    "\n",
    "label_encoder = LabelEncoder()\n",
    "y_train = label_encoder.fit_transform(y_train)\n",
    "y_train"
   ]
  },
  {
   "cell_type": "code",
   "execution_count": null,
   "metadata": {},
   "outputs": [],
   "source": [
    "#cheking what were assigned\n",
    "mapping = dict(zip(label_encoder.classes_, label_encoder.transform(label_encoder.classes_)))\n",
    "print(\"Mapping of original values to encoded values:\", mapping)"
   ]
  },
  {
   "cell_type": "code",
   "execution_count": null,
   "metadata": {},
   "outputs": [],
   "source": [
    "label_encoder = LabelEncoder()\n",
    "y_test = label_encoder.fit_transform(y_test)\n",
    "y_test"
   ]
  },
  {
   "cell_type": "code",
   "execution_count": null,
   "metadata": {},
   "outputs": [],
   "source": [
    "mapping = dict(zip(label_encoder.classes_, label_encoder.transform(label_encoder.classes_)))\n",
    "print(\"Mapping of original values to encoded values:\", mapping)"
   ]
  },
  {
   "cell_type": "code",
   "execution_count": null,
   "metadata": {},
   "outputs": [],
   "source": [
    "label_encoder = LabelEncoder()\n",
    "y_val = label_encoder.fit_transform(y_val)\n",
    "y_val"
   ]
  },
  {
   "cell_type": "code",
   "execution_count": null,
   "metadata": {},
   "outputs": [],
   "source": [
    "mapping = dict(zip(label_encoder.classes_, label_encoder.transform(label_encoder.classes_)))\n",
    "print(\"Mapping of original values to encoded values:\", mapping)"
   ]
  },
  {
   "cell_type": "markdown",
   "metadata": {},
   "source": [
    "Encoding Type"
   ]
  },
  {
   "cell_type": "code",
   "execution_count": null,
   "metadata": {},
   "outputs": [],
   "source": [
    "from sklearn.preprocessing import OrdinalEncoder\n",
    "\n",
    "ordinal_encoder = OrdinalEncoder(categories=[['L', 'M', 'H']])\n",
    "X_train['Type'] = ordinal_encoder.fit_transform(X=X_train[['Type']])\n",
    "X_train"
   ]
  },
  {
   "cell_type": "code",
   "execution_count": null,
   "metadata": {},
   "outputs": [],
   "source": [
    "mapping = dict(zip(ordinal_encoder.categories_[0], [x for x in range(0,len(ordinal_encoder.categories_[0]))]))\n",
    "print(\"Mapping of original values to encoded values:\", mapping)"
   ]
  },
  {
   "cell_type": "code",
   "execution_count": null,
   "metadata": {},
   "outputs": [],
   "source": [
    "ordinal_encoder = OrdinalEncoder(categories=[['L', 'M', 'H']])\n",
    "X_test['Type'] = ordinal_encoder.fit_transform(X=X_test[['Type']])\n",
    "X_test"
   ]
  },
  {
   "cell_type": "code",
   "execution_count": null,
   "metadata": {},
   "outputs": [],
   "source": [
    "mapping = dict(zip(ordinal_encoder.categories_[0], [x for x in range(0,len(ordinal_encoder.categories_[0]))]))\n",
    "print(\"Mapping of original values to encoded values:\", mapping)"
   ]
  },
  {
   "cell_type": "code",
   "execution_count": null,
   "metadata": {},
   "outputs": [],
   "source": [
    "ordinal_encoder = OrdinalEncoder(categories=[['L', 'M', 'H']])\n",
    "X_val['Type'] = ordinal_encoder.fit_transform(X=X_val[['Type']])\n",
    "X_val"
   ]
  },
  {
   "cell_type": "code",
   "execution_count": null,
   "metadata": {},
   "outputs": [],
   "source": [
    "mapping = dict(zip(ordinal_encoder.categories_[0], [x for x in range(0,len(ordinal_encoder.categories_[0]))]))\n",
    "print(\"Mapping of original values to encoded values:\", mapping)"
   ]
  },
  {
   "cell_type": "code",
   "execution_count": null,
   "metadata": {},
   "outputs": [],
   "source": [
    "#importing SVM from sklearn\n",
    "# Sklearn modules & classes\n",
    "from sklearn.linear_model import Perceptron, LogisticRegression\n",
    "from sklearn.svm import SVC\n",
    "from sklearn.model_selection import train_test_split\n",
    "from sklearn.preprocessing import StandardScaler\n",
    "from sklearn import datasets\n",
    "from sklearn import metrics\n",
    "from sklearn.ensemble import RandomForestClassifier\n",
    "\n",
    "# Instantiate the Support Vector Classifier (SVC)\n"
   ]
  },
  {
   "cell_type": "code",
   "execution_count": null,
   "metadata": {},
   "outputs": [],
   "source": [
    "# X_test = X_test.drop('Rotational speed [rpm]', axis=1)\n",
    "# X_train = X_train.drop('Rotational speed [rpm]', axis=1)\n",
    "# X_val = X_val.drop('Rotational speed [rpm]', axis=1)"
   ]
  },
  {
   "cell_type": "code",
   "execution_count": null,
   "metadata": {},
   "outputs": [],
   "source": [
    "fig = plt.figure(figsize = (15, 20))\n",
    "ax = fig.gca()\n",
    "X_train.plot(ax=ax, kind = 'box', subplots=True, layout=(6,4), sharex=False)\n",
    "plt.show()"
   ]
  },
  {
   "cell_type": "code",
   "execution_count": null,
   "metadata": {},
   "outputs": [],
   "source": [
    "# handle outliers of the Torque column in X_train\n",
    "# Calculate Q1, Q3, and IQR\n",
    "Q1 = X_train[\"Rotational speed [rpm]\"].quantile(0.25)\n",
    "Q3 = X_train[\"Rotational speed [rpm]\"].quantile(0.75)\n",
    "\n",
    "IQR = Q3 - Q1\n",
    "\n",
    "# Calculate lower and upper bounds\n",
    "lower_bound = Q1 - 1.5 * IQR\n",
    "upper_bound = Q3 + 1.5 * IQR\n",
    "\n",
    "# Define outliers based on the bounds\n",
    "outliers = X_train[(X_train[\"Rotational speed [rpm]\"] < lower_bound) | (X_train[\"Rotational speed [rpm]\"] > upper_bound)]\n",
    "\n",
    "# Count the number of outliers\n",
    "number_of_outliers = outliers.shape[0]\n",
    "\n",
    "#Output the number of outliers\n",
    "# number_of_outliers\n",
    "\n",
    "# Display the values of the outliers\n",
    "outliers_values = outliers[\"Rotational speed [rpm]\"].values\n",
    "\n",
    "# Output the outliers' values\n",
    "outliers_values\n",
    "# upper_bound\n",
    "\n",
    "\n",
    "# Cap the values exceeding the upper bound\n",
    "X_train.loc[X_train[\"Rotational speed [rpm]\"] > upper_bound, \"Rotational speed [rpm]\"] = upper_bound\n",
    "\n",
    "# Cap the values below the lower bound\n",
    "X_train.loc[X_train[\"Rotational speed [rpm]\"] < lower_bound, \"Rotational speed [rpm]\"] = lower_bound\n",
    "\n",
    "X_train"
   ]
  },
  {
   "cell_type": "code",
   "execution_count": null,
   "metadata": {},
   "outputs": [],
   "source": [
    "# handle outliers of the Torque column in X_train\n",
    "# Calculate Q1, Q3, and IQR\n",
    "Q1 = X_train[\"Torque [Nm]\"].quantile(0.25)\n",
    "Q3 = X_train[\"Torque [Nm]\"].quantile(0.75)\n",
    "\n",
    "IQR = Q3 - Q1\n",
    "\n",
    "# Calculate lower and upper bounds\n",
    "lower_bound = Q1 - 1.5 * IQR\n",
    "upper_bound = Q3 + 1.5 * IQR\n",
    "\n",
    "# Define outliers based on the bounds\n",
    "outliers = X_train[(X_train[\"Torque [Nm]\"] < lower_bound) | (X_train[\"Torque [Nm]\"] > upper_bound)]\n",
    "\n",
    "# Count the number of outliers\n",
    "number_of_outliers = outliers.shape[0]\n",
    "\n",
    "# Output the number of outliers\n",
    "# number_of_outliers\n",
    "\n",
    "# Display the values of the outliers\n",
    "outliers_values = outliers[\"Torque [Nm]\"].values\n",
    "\n",
    "# Output the outliers' values\n",
    "# outliers_values\n",
    "\n",
    "\n",
    "# Cap the values exceeding the upper bound\n",
    "X_train.loc[X_train[\"Torque [Nm]\"] > upper_bound, \"Torque [Nm]\"] = upper_bound\n",
    "\n",
    "# Cap the values below the lower bound\n",
    "X_train.loc[X_train[\"Torque [Nm]\"] < lower_bound, \"Torque [Nm]\"] = lower_bound\n",
    "\n",
    "X_train"
   ]
  },
  {
   "cell_type": "code",
   "execution_count": null,
   "metadata": {},
   "outputs": [],
   "source": [
    "fig = plt.figure(figsize = (15, 20))\n",
    "ax = fig.gca()\n",
    "X_train.plot(ax=ax, kind = 'box', subplots=True, layout=(6,4), sharex=False)\n",
    "plt.show()"
   ]
  },
  {
   "cell_type": "code",
   "execution_count": null,
   "metadata": {},
   "outputs": [],
   "source": [
    "from sklearn.preprocessing import StandardScaler\n",
    "from sklearn.ensemble import RandomForestClassifier\n",
    "from sklearn.metrics import accuracy_score, classification_report, confusion_matrix\n",
    "\n",
    "# Scale the data\n",
    "scaler = StandardScaler()\n",
    "X_train = scaler.fit_transform(X_train)\n",
    "X_val = scaler.transform(X_val)\n",
    "X_test = scaler.transform(X_test)\n",
    "\n",
    "# Train the Random Forest model on the training set\n",
    "rf = RandomForestClassifier(n_estimators=100, random_state=42, max_depth=None)  # You can tune parameters\n",
    "rf.fit(X_train, y_train)\n",
    "\n",
    "# Evaluate the model on the validation set\n",
    "y_val_pred = rf.predict(X_val)\n",
    "val_accuracy = accuracy_score(y_val, y_val_pred)\n",
    "\n",
    "print(\"Validation Accuracy: %.3f\" % val_accuracy)\n",
    "print(\"Validation Classification Report:\\n\", classification_report(y_val, y_val_pred))\n",
    "\n",
    "# If satisfied with validation performance, evaluate the model on the test set\n",
    "y_test_pred = rf.predict(X_test)\n",
    "test_accuracy = accuracy_score(y_test, y_test_pred)\n",
    "\n",
    "print(\"Test Accuracy: %.3f\" % test_accuracy)\n",
    "print(\"Test Classification Report:\\n\", classification_report(y_test, y_test_pred))\n",
    "print(\"Confusion Matrix:\\n\", confusion_matrix(y_test, y_test_pred))\n"
   ]
  },
  {
   "cell_type": "code",
   "execution_count": null,
   "metadata": {},
   "outputs": [],
   "source": [
    "X_train"
   ]
  }
 ],
 "metadata": {
  "kaggle": {
   "accelerator": "none",
   "dataSources": [
    {
     "datasetId": 1697740,
     "sourceId": 2781015,
     "sourceType": "datasetVersion"
    }
   ],
   "dockerImageVersionId": 30746,
   "isGpuEnabled": false,
   "isInternetEnabled": true,
   "language": "python",
   "sourceType": "notebook"
  },
  "kernelspec": {
   "display_name": "Python 3 (ipykernel)",
   "language": "python",
   "name": "python3"
  },
  "language_info": {
   "codemirror_mode": {
    "name": "ipython",
    "version": 3
   },
   "file_extension": ".py",
   "mimetype": "text/x-python",
   "name": "python",
   "nbconvert_exporter": "python",
   "pygments_lexer": "ipython3",
   "version": "3.12.7"
  }
 },
 "nbformat": 4,
 "nbformat_minor": 4
}
